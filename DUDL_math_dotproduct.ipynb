{
  "nbformat": 4,
  "nbformat_minor": 0,
  "metadata": {
    "colab": {
      "provenance": [],
      "authorship_tag": "ABX9TyPscbtQl8eobGwu5RE1iNRD",
      "include_colab_link": true
    },
    "kernelspec": {
      "name": "python3",
      "display_name": "Python 3"
    },
    "language_info": {
      "name": "python"
    }
  },
  "cells": [
    {
      "cell_type": "markdown",
      "metadata": {
        "id": "view-in-github",
        "colab_type": "text"
      },
      "source": [
        "<a href=\"https://colab.research.google.com/github/LLewis/ai-deep-learning/blob/main/DUDL_math_dotproduct.ipynb\" target=\"_parent\"><img src=\"https://colab.research.google.com/assets/colab-badge.svg\" alt=\"Open In Colab\"/></a>"
      ]
    },
    {
      "cell_type": "code",
      "execution_count": 5,
      "metadata": {
        "colab": {
          "base_uri": "https://localhost:8080/"
        },
        "id": "GaPY-DQGAULo",
        "outputId": "d5bf53f4-3df3-4575-d725-de155e4510c6"
      },
      "outputs": [
        {
          "output_type": "stream",
          "name": "stdout",
          "text": [
            "[1 2 3 4]\n",
            "[ 0  1  0 -1]\n",
            "-2\n",
            "-2\n",
            "tensor(-2)\n",
            "tensor(-2)\n"
          ]
        }
      ],
      "source": [
        "#import libraries\n",
        "import numpy as np\n",
        "import torch\n",
        "\n",
        "#Using numpy---------------------------------\n",
        "\n",
        "#create a two vectors\n",
        "nv1 = np.array([1,2,3,4])\n",
        "nv2 = np.array([0,1,0,-1])\n",
        "\n",
        "print(nv1), print(nv2)\n",
        "\n",
        "# dot product function dot(v1, v2) that calculates the\n",
        "#dot product for vectors.\n",
        "\n",
        "print(np.dot(nv1, nv2))\n",
        "\n",
        "\n",
        "#actual dot product algorithm, computation\n",
        "print(np.sum(nv1 * nv2))\n",
        "\n",
        "\n",
        "#Using pytorch---------------------------------\n",
        "\n",
        "#create two vector rows using pytorch\n",
        "\n",
        "tv1 = torch.tensor([1,2,3,4])\n",
        "tv2 = torch.tensor([0,1,0,-1])\n",
        "\n",
        "#pytorch dot product fucntion\n",
        "print(torch.dot(tv1, tv2))\n",
        "\n",
        "#pytorch dot product algorithm computation\n",
        "#a one element tensor example:   tensor(-2)\n",
        "print(torch.sum(tv1*tv2))"
      ]
    }
  ]
}