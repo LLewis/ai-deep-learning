{
  "nbformat": 4,
  "nbformat_minor": 0,
  "metadata": {
    "colab": {
      "provenance": [],
      "authorship_tag": "ABX9TyPBHbtPr8GThcfQrTHfK2wJ",
      "include_colab_link": true
    },
    "kernelspec": {
      "name": "python3",
      "display_name": "Python 3"
    },
    "language_info": {
      "name": "python"
    }
  },
  "cells": [
    {
      "cell_type": "markdown",
      "metadata": {
        "id": "view-in-github",
        "colab_type": "text"
      },
      "source": [
        "<a href=\"https://colab.research.google.com/github/LLewis/ai-deep-learning/blob/main/LL_math_meanvar.ipynb\" target=\"_parent\"><img src=\"https://colab.research.google.com/assets/colab-badge.svg\" alt=\"Open In Colab\"/></a>"
      ]
    },
    {
      "cell_type": "markdown",
      "source": [
        "Mean, median, mode and range calculate the averages of data sets using different methods. Mean is the average of all of the numbers. Median is the middle number, when in order. Mode is the most common number. Range is the largest number minus the smallest number."
      ],
      "metadata": {
        "id": "wbxFNq_lHdvb"
      }
    },
    {
      "cell_type": "code",
      "execution_count": 2,
      "metadata": {
        "colab": {
          "base_uri": "https://localhost:8080/"
        },
        "id": "HELtAQl_Hc2n",
        "outputId": "6e2ce510-c18b-4a01-e139-4eed5d5d0ca5"
      },
      "outputs": [
        {
          "output_type": "stream",
          "name": "stdout",
          "text": [
            "3.142857142857143\n",
            "3.142857142857143\n",
            "4.122448979591836\n",
            "4.809523809523809\n",
            "4.809523809523809\n",
            "4.809523809523809\n",
            "32.425311\n",
            "32.45776876876877\n"
          ]
        }
      ],
      "source": [
        "#import libraries\n",
        "import numpy as np\n",
        "\n",
        "#create a list of numbers to compute the mean and variance of\n",
        "x = [1,2,4,6,5,4,0]\n",
        "n = len(x)\n",
        "\n",
        "#compute mean\n",
        "mean1 = np.mean(x)\n",
        "mean2 = np.sum(x) / n\n",
        "print(mean1)\n",
        "print(mean2)\n",
        "\n",
        "#compute variance\n",
        "var1 = np.var(x)\n",
        "var2 = (1/(n-1)) * np.sum((x-mean1)**2) #implementing the formula\n",
        "print(var1) #var1 and var2 not exaclty the same because of degrees of freedom which is the minus 1 in formula\n",
        "             # the difference is scaling n-1 or n\n",
        "            # using n only is called a bias measure of variance\n",
        "            # using n-1 is called an unbias measure of variance.  it removes degree of bias \n",
        "            # why because I know the values for (x-mean1) will equal zero, so that removes one degree of freedom from the statistic\n",
        "            #and we account for that by using n-1\n",
        "print(var2)\n",
        "\n",
        "#using python attribute ddof Denominator Degrees of Freedom is zero by default, can assign 1 to create an unbiase measure of variance\n",
        "#var3 and var2 compute the same variance value\n",
        "var3 = np.var(x, ddof=1)\n",
        "print(var3)\n",
        "print(var2)\n",
        "\n",
        "#does it matter for a large N\n",
        "N = 1000\n",
        "x = np.random.randint(0, high=20, size=N)\n",
        "\n",
        "var0 = np.var(x, ddof=0) #python default - bias variance\n",
        "var1 = np.var(x, ddof=1)  #assign 1 to set a unbias variance\n",
        "print(var0)\n",
        "print(var1)\n",
        "\n",
        "#The larger N the smaller and smaller the difference\n",
        "\n",
        "\n",
        "\n"
      ]
    }
  ]
}