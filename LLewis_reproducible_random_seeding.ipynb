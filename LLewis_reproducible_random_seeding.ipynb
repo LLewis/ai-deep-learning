{
  "nbformat": 4,
  "nbformat_minor": 0,
  "metadata": {
    "colab": {
      "provenance": [],
      "authorship_tag": "ABX9TyN2l9LVRQl12SRetv6dbKUl",
      "include_colab_link": true
    },
    "kernelspec": {
      "name": "python3",
      "display_name": "Python 3"
    },
    "language_info": {
      "name": "python"
    }
  },
  "cells": [
    {
      "cell_type": "markdown",
      "metadata": {
        "id": "view-in-github",
        "colab_type": "text"
      },
      "source": [
        "<a href=\"https://colab.research.google.com/github/LLewis/ai-deep-learning/blob/main/LLewis_reproducible_random_seeding.ipynb\" target=\"_parent\"><img src=\"https://colab.research.google.com/assets/colab-badge.svg\" alt=\"Open In Colab\"/></a>"
      ]
    },
    {
      "cell_type": "markdown",
      "source": [
        "Reproducing random strings of numbers.\n",
        "Making models reproducible"
      ],
      "metadata": {
        "id": "Ie8hojJ_NsB_"
      }
    },
    {
      "cell_type": "code",
      "execution_count": 33,
      "metadata": {
        "colab": {
          "base_uri": "https://localhost:8080/"
        },
        "id": "2w0KkU2LD4tY",
        "outputId": "bcee3c09-042d-49e6-c5b7-994406296da2"
      },
      "outputs": [
        {
          "output_type": "execute_result",
          "data": {
            "text/plain": [
              "array([-1.77528229,  1.31487654, -0.47344805, -1.0922299 , -0.25002744])"
            ]
          },
          "metadata": {},
          "execution_count": 33
        }
      ],
      "source": [
        "#import libraries\n",
        "import numpy as np\n",
        "import torch\n",
        "\n",
        "#generare a few random numbers\n",
        "np.random.randn(5)\n",
        "\n",
        "\n",
        "#repeat after fixing the seeding (old - still widely used method)\n",
        "#seed allows others that use the same algorithm to create the same values\n",
        "\n"
      ]
    },
    {
      "cell_type": "code",
      "source": [
        "#repeat after fixing the seeding (old - still widely used method)\n",
        "#seeding allow algorithm to generate the same values, if others use algorithm same values will be created\n",
        "#will get exact same value\n",
        "#Global seeding \n",
        "np.random.seed(17)  #17 is simple an arbitray nunmbers\n",
        "print(np.random.randn(5))\n",
        "print(np.random.randn(5))"
      ],
      "metadata": {
        "colab": {
          "base_uri": "https://localhost:8080/"
        },
        "id": "ibvige2xGShD",
        "outputId": "d670fc44-3d30-4b6d-884a-ef44c4251fb5"
      },
      "execution_count": 61,
      "outputs": [
        {
          "output_type": "stream",
          "name": "stdout",
          "text": [
            "[ 0.27626589 -1.85462808  0.62390111  1.14531129  1.03719047]\n",
            "[ 1.88663893 -0.11169829 -0.36210134  0.14867505 -0.43778315]\n"
          ]
        }
      ]
    },
    {
      "cell_type": "code",
      "source": [
        "#Here seeding is creating a local scope for the randomseed1 and randomseed2\n",
        "#The RandomState method generates the seed state\n",
        "\n",
        "randseed1 = np.random.RandomState(17)\n",
        "randseed2 = np.random.RandomState(20230501)\n",
        "\n",
        "#invoking randn from each object randseed1 and randseed2\n",
        "print(randseed1.randn(5)) # same sequence\n",
        "print(randseed2.randn(5)) # different value from above, but same each time it's executed\n",
        "print(randseed1.randn(5)) # same as two up\n",
        "print(randseed2.randn(5)), print(' ') #same as two up\n",
        "\n",
        "\n",
        "#no seeding - so different value every time executed\n",
        "print(np.random.randn(5))\n"
      ],
      "metadata": {
        "colab": {
          "base_uri": "https://localhost:8080/"
        },
        "id": "UmjNo0HwI6Dl",
        "outputId": "f758712e-70b7-446d-c6f5-efc7d8ce0e53"
      },
      "execution_count": 40,
      "outputs": [
        {
          "output_type": "stream",
          "name": "stdout",
          "text": [
            "[ 0.27626589 -1.85462808  0.62390111  1.14531129  1.03719047]\n",
            "[-1.35550887 -1.38033217  0.95720633  0.92706643 -0.21343521]\n",
            "[ 1.88663893 -0.11169829 -0.36210134  0.14867505 -0.43778315]\n",
            "[-0.28782324 -0.61381924  0.07457001 -0.00252326  1.33012283]\n",
            " \n",
            "[ 0.0991466   0.63792617  0.70311068 -0.91609315 -0.78601423]\n"
          ]
        }
      ]
    },
    {
      "cell_type": "code",
      "source": [
        "#Using Pytorch randomness NO seeding\n",
        "#Values will always be different\n",
        "torch.randn(5)\n",
        "print(torch.randn(5))\n"
      ],
      "metadata": {
        "colab": {
          "base_uri": "https://localhost:8080/"
        },
        "id": "ZvxKPWFkLxkA",
        "outputId": "630275c2-37b2-4054-b96a-ec5863870d48"
      },
      "execution_count": 63,
      "outputs": [
        {
          "output_type": "stream",
          "name": "stdout",
          "text": [
            "tensor([ 0.1534, -2.6631, -1.4311, -0.5483,  0.3232])\n"
          ]
        }
      ]
    },
    {
      "cell_type": "code",
      "source": [
        "#Torch seeding - values will be the same at each run\n",
        "torch.manual_seed(17)\n",
        "print(torch.randn(5))\n",
        "\n",
        "# torch's seeding does NOT spread to numpy\n",
        "print(np.random.randn(5))\n",
        "\n"
      ],
      "metadata": {
        "colab": {
          "base_uri": "https://localhost:8080/"
        },
        "outputId": "e167ad23-fdff-4e89-fc4c-e31b1f31dccd",
        "id": "haHdmMyJM-IG"
      },
      "execution_count": 62,
      "outputs": [
        {
          "output_type": "stream",
          "name": "stdout",
          "text": [
            "tensor([-1.4135,  0.2336,  0.0340,  0.3499, -0.0145])\n",
            "[ 2.171257    1.15231025 -1.81881234 -0.13804934  0.53983961]\n"
          ]
        }
      ]
    }
  ]
}