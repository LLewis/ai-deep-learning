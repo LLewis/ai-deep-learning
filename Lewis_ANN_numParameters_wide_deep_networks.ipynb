{
  "nbformat": 4,
  "nbformat_minor": 0,
  "metadata": {
    "colab": {
      "provenance": [],
      "authorship_tag": "ABX9TyN1AhbUzy+HiBtTKIXGXaw6",
      "include_colab_link": true
    },
    "kernelspec": {
      "name": "python3",
      "display_name": "Python 3"
    },
    "language_info": {
      "name": "python"
    }
  },
  "cells": [
    {
      "cell_type": "markdown",
      "metadata": {
        "id": "view-in-github",
        "colab_type": "text"
      },
      "source": [
        "<a href=\"https://colab.research.google.com/github/LLewis/ai-deep-learning/blob/main/Lewis_ANN_numParameters_wide_deep_networks.ipynb\" target=\"_parent\"><img src=\"https://colab.research.google.com/assets/colab-badge.svg\" alt=\"Open In Colab\"/></a>"
      ]
    },
    {
      "cell_type": "code",
      "execution_count": 3,
      "metadata": {
        "colab": {
          "base_uri": "https://localhost:8080/",
          "height": 144
        },
        "id": "wa9G4DYje1Q2",
        "outputId": "ab295c11-8ea7-49f4-b0c3-a86435445b71"
      },
      "outputs": [
        {
          "output_type": "error",
          "ename": "SyntaxError",
          "evalue": "invalid syntax. Perhaps you forgot a comma? (<ipython-input-3-d6f0cf5c7f19>, line 10)",
          "traceback": [
            "\u001b[0;36m  File \u001b[0;32m\"<ipython-input-3-d6f0cf5c7f19>\"\u001b[0;36m, line \u001b[0;32m10\u001b[0m\n\u001b[0;31m    nn.Linear(2,4) # hidden layer, the object (nn.Linear) is the weight metrics for input 2, 4 that connect to the hiddent layer - visual ,\u001b[0m\n\u001b[0m    ^\u001b[0m\n\u001b[0;31mSyntaxError\u001b[0m\u001b[0;31m:\u001b[0m invalid syntax. Perhaps you forgot a comma?\n"
          ]
        }
      ],
      "source": [
        "#import libraries\n",
        "import numpy as np\n",
        "import torch\n",
        "import torch.nn as nn\n",
        "\n",
        "# Build two models\n",
        "#Counting weights, which are the module paramters\n",
        "\n",
        "widenetwork = nn.Sequential(\n",
        "    nn.Linear(2,4) # hidden layer, the object (nn.Linear) is the weight metrics for input 2, 4 that connect to the hiddent layer - visual ,\n",
        "                   #its the transformation layer ( connecting arrows) that gets mapped to hidden layer\n",
        "    nn.Linear(4,3) # output layer\n",
        ")\n",
        "\n",
        "deepnetwork = nn.Sequential(\n",
        "    nn.Linear(2,2) # hidden layer\n",
        "    nn.Linear(2,2) # hidden layer\n",
        "    nn.Linear(2,3) # output layer\n",
        "\n",
        ")\n",
        "\n",
        "# print them out to have a look\n",
        "print(widenetwork)\n",
        "print(' ')\n",
        "\n"
      ]
    }
  ]
}