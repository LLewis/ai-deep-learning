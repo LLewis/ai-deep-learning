{
  "nbformat": 4,
  "nbformat_minor": 0,
  "metadata": {
    "colab": {
      "provenance": [],
      "authorship_tag": "ABX9TyM2VAoW137Y1ag/fSniF349",
      "include_colab_link": true
    },
    "kernelspec": {
      "name": "python3",
      "display_name": "Python 3"
    },
    "language_info": {
      "name": "python"
    }
  },
  "cells": [
    {
      "cell_type": "markdown",
      "metadata": {
        "id": "view-in-github",
        "colab_type": "text"
      },
      "source": [
        "<a href=\"https://colab.research.google.com/github/LLewis/ai-deep-learning/blob/main/DUDL_math_min_max_argmin_argmax.ipynb\" target=\"_parent\"><img src=\"https://colab.research.google.com/assets/colab-badge.svg\" alt=\"Open In Colab\"/></a>"
      ]
    },
    {
      "cell_type": "code",
      "execution_count": null,
      "metadata": {
        "colab": {
          "base_uri": "https://localhost:8080/"
        },
        "id": "NidtqUbV1b1d",
        "outputId": "2ba7e102-7b8b-49f1-c3cd-c8c6eca58248"
      },
      "outputs": [
        {
          "output_type": "stream",
          "name": "stdout",
          "text": [
            "Min,Max: -3,40\n",
            "Min,Max indices: 3,1\n",
            " \n",
            "Min val is -3, Max val is 40\n",
            "\n",
            "Matrix\n",
            "[[ 0  1 10]\n",
            " [20  8  5]]\n",
            " \n",
            "0\n",
            "[0 1 5]\n",
            "[0 5]\n",
            "[[ 0  1 10]\n",
            " [20  8  5]]\n",
            " \n",
            "0\n",
            "[0 0 1]\n",
            "[0 2]\n",
            "Min,Max: -8,50\n",
            "Min,Max indices: 3,1\n",
            " \n",
            "Min val is -8, Max val is 50\n",
            "\n",
            "tensor([[ 0,  1, 10],\n",
            "        [20,  8,  5]])\n",
            " \n",
            "tensor(0)\n",
            " \n",
            "torch.return_types.min(\n",
            "values=tensor([0, 1, 5]),\n",
            "indices=tensor([0, 0, 1]))\n",
            " \n",
            "tensor([0, 1, 5])\n",
            "tensor([0, 0, 1])\n"
          ]
        },
        {
          "output_type": "execute_result",
          "data": {
            "text/plain": [
              "torch.return_types.min"
            ]
          },
          "metadata": {},
          "execution_count": 20
        }
      ],
      "source": [
        "#import libraries\n",
        "\n",
        "import numpy as np\n",
        "import torch\n",
        "import torch.nn as nn\n",
        "\n",
        "#create a vector\n",
        "v = np.array([1, 40,2,-3])\n",
        "\n",
        "#find and report the maximum and minimum values usin min and max functions\n",
        "minval = np.min(v)\n",
        "maxval = np.max(v)\n",
        "print('Min,Max: %g,%g' %(minval, maxval))\n",
        "\n",
        "#find and report the index value of the  minimum value and maximum value\n",
        "minidx = np.argmin(v)\n",
        "maxidx = np.argmax(v)\n",
        "print('Min,Max indices: %g,%g' %(minidx, maxidx)), print(' ')\n",
        "\n",
        "#confirm index value\n",
        "print(f'Min val is {v[minidx]}, Max val is {v[maxidx]}')\n",
        "print()\n",
        "\n",
        "#repeat with matirix\n",
        "#can calculate multiple types of minimum values\n",
        "#min value in a row or max valu in a column or min value for between all elements in matrix\n",
        "M = np.array([[0,1,10], [20,8,5]])\n",
        "\n",
        "print('Matrix')\n",
        "print(M), print(' ')\n",
        "\n",
        "#various minima in matrix\n",
        "minvals1 = np.min(M) # minimum from entire matrix\n",
        "minvals2 = np.min(M, axis=0) #minimum of each column (accross rows)\n",
        "minvals3 = np.min(M, axis=1) #minimum of each row (accross columns)\n",
        "\n",
        "print(minvals1)\n",
        "print(minvals2)\n",
        "print(minvals3)\n",
        "\n",
        "#many minima in matrix using argmin or argmax functions\n",
        "minidx1 = np.argmin(M) # minimum from entire matrix\n",
        "minidx2 = np.argmin(M, axis=0) #minimum of each column (accross rows)\n",
        "minidx3 = np.argmin(M, axis=1) #minimum of each row (accross columns\n",
        "\n",
        "\n",
        "print(M), print(' ') #reminder.  min value of matrix 0\n",
        "print(minidx1)  \n",
        "print(minidx2)\n",
        "print(minidx3)\n",
        "\n",
        "\n",
        "#USING Pytorch\n",
        "\n",
        "#create a vector on deminsional tensor\n",
        "v = torch.tensor([1,50,2,-8])\n",
        "\n",
        "#find and report the maximum and minimum  values\n",
        "minval = torch.min(v)\n",
        "maxval = torch.max(v)\n",
        "\n",
        "print('Min,Max: %g,%g' %(minval, maxval))\n",
        "\n",
        "#for the argmin and argmax functions\n",
        "minidx = torch.argmin(v)\n",
        "maxidx = torch.argmax(v)\n",
        "\n",
        "print('Min,Max indices: %g,%g' %(minidx, maxidx)), print(' ')\n",
        "\n",
        "#confirm index value\n",
        "print(f'Min val is {v[minidx]}, Max val is {v[maxidx]}')\n",
        "print()\n",
        "\n",
        "#repeat with matrix\n",
        "M = torch.tensor([[0,1,10], [20,8,5]])\n",
        "print(M), print(' ')\n",
        "\n",
        "#many minima in matrix using argmin or argmax functions. \n",
        "min1 = torch.min(M) # minimum from entire matrix two deminsionalo tensor\n",
        "min2 = torch.min(M, axis=0) #minimum of each column (accross rows)\n",
        "min3 = torch.min(M, axis=1) #minimum of each row (accross columns)\n",
        "\n",
        "#print out\n",
        "print(min1), print(' ') #min value of matrix 0\n",
        "print(min2)  , print(' ') #print matrix containing lowest value in each column\n",
        "print(min2.values)\n",
        "print(min2.indices)\n",
        "\n",
        "\n",
        "type(min2) #min2 is a tuple containing the tensor values and indicies\n",
        "\n",
        "\n",
        "\n",
        "\n",
        "\n",
        "\n",
        "\n"
      ]
    },
    {
      "cell_type": "code",
      "source": [],
      "metadata": {
        "id": "klR3oZKn6eVd"
      },
      "execution_count": null,
      "outputs": []
    }
  ]
}