{
  "nbformat": 4,
  "nbformat_minor": 0,
  "metadata": {
    "colab": {
      "provenance": [],
      "authorship_tag": "ABX9TyNCYSa6PMP2L9wy3iHiYn/+",
      "include_colab_link": true
    },
    "kernelspec": {
      "name": "python3",
      "display_name": "Python 3"
    },
    "language_info": {
      "name": "python"
    }
  },
  "cells": [
    {
      "cell_type": "markdown",
      "metadata": {
        "id": "view-in-github",
        "colab_type": "text"
      },
      "source": [
        "<a href=\"https://colab.research.google.com/github/LLewis/ai-deep-learning/blob/main/LLewis_GradientDescent_2D.ipynb\" target=\"_parent\"><img src=\"https://colab.research.google.com/assets/colab-badge.svg\" alt=\"Open In Colab\"/></a>"
      ]
    },
    {
      "cell_type": "code",
      "execution_count": 2,
      "metadata": {
        "colab": {
          "base_uri": "https://localhost:8080/"
        },
        "id": "fCCHdRGV5dB_",
        "outputId": "ce5449ac-d7a3-4479-e2a3-37bb85267998"
      },
      "outputs": [
        {
          "output_type": "stream",
          "name": "stderr",
          "text": [
            "<ipython-input-2-17cb343d584f>:7: DeprecationWarning: `set_matplotlib_formats` is deprecated since IPython 7.23, directly use `matplotlib_inline.backend_inline.set_matplotlib_formats()`\n",
            "  display.set_matplotlib_formats('svg')\n"
          ]
        }
      ],
      "source": [
        "#import all necessary modules\n",
        "import numpy as np\n",
        "import matplotlib.pyplot as plt\n",
        "import sympy as sym # sympy to compute the partial derivatives\n",
        "\n",
        "from IPython import display\n",
        "display.set_matplotlib_formats('svg')\n",
        "\n",
        "# the 'peaks' function\n",
        "def peaks(x,y):\n",
        "  # expand to a 2D mesh\n",
        "  x,y = np.meshgrid(x,y)\n",
        "  z = 3*(1-x)**2 * np.exp(-(x**2)- (y+1)**2) \\\n",
        "      - 10*(x/5 - x**3 - y**5) * np.exp(-x**2-y**2) \\\n",
        "      - 1/3*np.exp(-(x+1)**2 - y**2)\n",
        "  return z\n",
        "\n",
        "#create the landscape\n",
        "x = np.linspace(-3,3,2001)\n",
        "y = np.linspace(-3,3,2001)\n"
      ]
    }
  ]
}