{
  "nbformat": 4,
  "nbformat_minor": 0,
  "metadata": {
    "colab": {
      "provenance": [],
      "authorship_tag": "ABX9TyMPDMAIX04ln5TG0Z1popdB",
      "include_colab_link": true
    },
    "kernelspec": {
      "name": "python3",
      "display_name": "Python 3"
    },
    "language_info": {
      "name": "python"
    }
  },
  "cells": [
    {
      "cell_type": "markdown",
      "metadata": {
        "id": "view-in-github",
        "colab_type": "text"
      },
      "source": [
        "<a href=\"https://colab.research.google.com/github/LLewis/ai-deep-learning/blob/main/DUDL_math_transpose.ipynb\" target=\"_parent\"><img src=\"https://colab.research.google.com/assets/colab-badge.svg\" alt=\"Open In Colab\"/></a>"
      ]
    },
    {
      "cell_type": "markdown",
      "source": [
        "Tensors are simply mathematical objects that can be used to describe physical properties, just like scalars and vectors. In fact tensors are merely a generalisation of scalars and vectors; a scalar is a zero rank tensor, and a vector is a first rank tensor."
      ],
      "metadata": {
        "id": "zRS-gxjS9ZbZ"
      }
    },
    {
      "cell_type": "code",
      "source": [
        "\n",
        "#create random matrices\n",
        "import numpy as np\n",
        "import torch \n",
        "\n",
        "\n",
        "print('******** Using numphy creating matrices - arrays')\n",
        "#Using numphy\n",
        "A = np.random.randn(3, 4)\n",
        "B = np.random.randn(4, 5)\n",
        "C = np.random.randn(3, 7)\n",
        "\n",
        "#try manipulating matrices\n",
        "print(np.round(A@B, 2)), print(' ')\n",
        "#print(np.round(A@C, 2)), print(' ')\n",
        "#print(np.round(A.T@C, 2)), print(' ')\n",
        "#print(np.round(B@C, 2)), print(' ')\n",
        "#print(np.round(C.T@A, 2)), print(' ')\n",
        "\n",
        "print('******** Using Pytorch creating tensors')\n",
        "#Using Pytorch\n",
        "#create random matrices \n",
        "A = torch.randn(3, 4)   #pytorch tensor\n",
        "B = torch.randn(4,5)\n",
        "C1 = np.random.randn(4, 7)  #a numphy matrix\n",
        "C2 = torch.tensor(C1, dtype=torch.float)\n",
        "\n",
        "#try multiplying matrices\n",
        "##print(np.round(A@B, 2)), print(' ')\n",
        "#print(np.round(A@B.T, 2)), print(' ')\n",
        "#print(np.round(A@C1, 2)), print(' ')\n",
        "print(np.round(A@C2, 2)), print(' ')"
      ],
      "metadata": {
        "colab": {
          "base_uri": "https://localhost:8080/"
        },
        "id": "6W_8cG7LgtVz",
        "outputId": "d1bc04d6-27ec-45b7-cacc-be6f862dcfdf"
      },
      "execution_count": 23,
      "outputs": [
        {
          "output_type": "stream",
          "name": "stdout",
          "text": [
            "******** Using numphy creating matrices - arrays\n",
            "[[ 0.08 -1.43  3.78 -1.89  3.65]\n",
            " [-0.45  1.32 -0.68  3.   -1.3 ]\n",
            " [ 0.53 -1.98 -1.34 -0.96  0.99]]\n",
            " \n",
            "******** Using Pytorch creating tensors\n",
            "tensor([[ 0.3600, -0.1000,  0.1500, -0.5200,  0.2100,  0.2900,  0.0500],\n",
            "        [ 4.9600, -2.6400,  9.9400, -8.7600, -0.3200,  5.6500, -2.0300],\n",
            "        [ 4.1600, -0.7400,  3.8800, -4.2700,  0.9700,  2.7600,  0.1500]])\n",
            " \n"
          ]
        },
        {
          "output_type": "execute_result",
          "data": {
            "text/plain": [
              "(None, None)"
            ]
          },
          "metadata": {},
          "execution_count": 23
        }
      ]
    },
    {
      "cell_type": "code",
      "execution_count": 1,
      "metadata": {
        "colab": {
          "base_uri": "https://localhost:8080/"
        },
        "id": "3NtwCirqNIdx",
        "outputId": "a196ca94-03d8-41c7-b5a1-a3a4e6045cf9"
      },
      "outputs": [
        {
          "output_type": "stream",
          "name": "stdout",
          "text": [
            "[[1 2 3 4 5 6 7 8 9]]\n",
            " \n",
            "[[1]\n",
            " [2]\n",
            " [3]\n",
            " [4]\n",
            " [5]\n",
            " [6]\n",
            " [7]\n",
            " [8]\n",
            " [9]]\n",
            " \n",
            "[[1 2 3 4 5 6 7 8 9]]\n",
            "[[1 2 3 4]\n",
            " [5 6 7 8]]\n",
            " \n",
            "[[1 5]\n",
            " [2 6]\n",
            " [3 7]\n",
            " [4 8]]\n",
            " \n",
            "[[1 2 3 4]\n",
            " [5 6 7 8]]\n"
          ]
        }
      ],
      "source": [
        "#import libraries\n",
        "import numpy as np\n",
        "import torch\n",
        "\n",
        "#create a row vector  using array function\n",
        "# the first row of the \n",
        "nv = np.array([[1,2,3,4,5,6,7,8,9]])\n",
        "print(nv), print(' ')\n",
        "\n",
        "#transpose it to column vector using the\n",
        "# T transpose function on the np.array object\n",
        "print(nv.T), print(' ')\n",
        "\n",
        "\n",
        "#transpose the transpose back to \n",
        "#it's original state\n",
        "nvT = nv.T\n",
        "print(nvT.T)\n",
        "\n",
        "#------------------------------------------\n",
        "\n",
        "#create a matrix  two rows and four column matrix\n",
        "nM = np.array([[1,2,3,4],[5,6,7,8]])\n",
        "print(nM), print(' ')\n",
        "\n",
        "#transpose the matrix \n",
        "print(nM.T), print(' ')\n",
        "\n",
        "#transpose the transpose\n",
        "nMT = nM.T\n",
        "print(nMT.T)\n",
        "\n",
        "\n",
        "\n"
      ]
    }
  ]
}