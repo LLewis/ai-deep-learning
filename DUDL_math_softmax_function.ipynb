{
  "nbformat": 4,
  "nbformat_minor": 0,
  "metadata": {
    "colab": {
      "provenance": [],
      "authorship_tag": "ABX9TyOKrzrhzs2qP3SGkRMrqkc5",
      "include_colab_link": true
    },
    "kernelspec": {
      "name": "python3",
      "display_name": "Python 3"
    },
    "language_info": {
      "name": "python"
    }
  },
  "cells": [
    {
      "cell_type": "markdown",
      "metadata": {
        "id": "view-in-github",
        "colab_type": "text"
      },
      "source": [
        "<a href=\"https://colab.research.google.com/github/LLewis/ai-deep-learning/blob/main/DUDL_math_softmax_function.ipynb\" target=\"_parent\"><img src=\"https://colab.research.google.com/assets/colab-badge.svg\" alt=\"Open In Colab\"/></a>"
      ]
    },
    {
      "cell_type": "markdown",
      "source": [
        "\n",
        "Softmax is a mathematical function that converts a vector of numbers into a vector of probabilities, where the probabilities of each value are proportional to the relative scale of each value in the vector."
      ],
      "metadata": {
        "id": "07sPMpe5nxMG"
      }
    },
    {
      "cell_type": "code",
      "execution_count": 25,
      "metadata": {
        "colab": {
          "base_uri": "https://localhost:8080/",
          "height": 871
        },
        "id": "X1JFK4vlnvll",
        "outputId": "130c8163-f4da-464f-fd3c-8d4508620347"
      },
      "outputs": [
        {
          "output_type": "stream",
          "name": "stdout",
          "text": [
            "[0.09003057 0.24472847 0.66524096]\n",
            "1.0\n",
            "[3.93743457e-03 8.89989915e-09 1.96033324e-04 1.07030568e-02\n",
            " 5.84367104e-01 7.90854875e-02 4.85918029e-07 1.44850123e-03\n",
            " 1.96033324e-04 1.44850123e-03 2.14976644e-01 2.90939249e-02\n",
            " 1.32086215e-06 1.96033324e-04 1.78759253e-07 6.57618541e-08\n",
            " 2.90939249e-02 2.41924341e-08 1.78759253e-07 3.93743457e-03\n",
            " 7.21166298e-05 1.07030568e-02 2.90939249e-02 1.44850123e-03\n",
            " 2.41924341e-08]\n",
            "1.0\n"
          ]
        },
        {
          "output_type": "display_data",
          "data": {
            "text/plain": [
              "<Figure size 432x288 with 1 Axes>"
            ],
            "image/png": "[encoded data removed]"
          },
          "metadata": {
            "needs_background": "light"
          }
        },
        {
          "output_type": "stream",
          "name": "stdout",
          "text": [
            "tensor([3.9374e-03, 8.8999e-09, 1.9603e-04, 1.0703e-02, 5.8437e-01, 7.9085e-02,\n",
            "        4.8592e-07, 1.4485e-03, 1.9603e-04, 1.4485e-03, 2.1498e-01, 2.9094e-02,\n",
            "        1.3209e-06, 1.9603e-04, 1.7876e-07, 6.5762e-08, 2.9094e-02, 2.4192e-08,\n",
            "        1.7876e-07, 3.9374e-03, 7.2117e-05, 1.0703e-02, 2.9094e-02, 1.4485e-03,\n",
            "        2.4192e-08])\n"
          ]
        },
        {
          "output_type": "display_data",
          "data": {
            "text/plain": [
              "<Figure size 432x288 with 1 Axes>"
            ],
            "image/png": "[encoded data removed]"
          },
          "metadata": {
            "needs_background": "light"
          }
        },
        {
          "output_type": "stream",
          "name": "stdout",
          "text": [
            "tensor(1.0000)\n"
          ]
        }
      ],
      "source": [
        "#import libraries\n",
        "import numpy as np\n",
        "import torch\n",
        "import torch.nn as nn #neural networks\n",
        "import matplotlib.pyplot as plt  #graph visualization\n",
        "\n",
        "#manually compute softmax func in numpy\n",
        "\n",
        "#list f numbers\n",
        "z = [1, 2, 3]\n",
        "#compute the softmax func result manually\n",
        "#softmax formula using python code \n",
        "\n",
        "numerator = np.exp(z) #calculate the \"exp^z\" each element \"z\" set to the powe of \n",
        "                      # the exp 2.178  \n",
        "denominator = np.sum(np.exp(z))  #summing each element in \"zead\" z\n",
        "sigma = numerator/denominator  #output of softmax function -divide each element into denominator\n",
        "print(sigma)  #output probability for each element for p(thing1), p(thing2), p(thing3)\n",
        "print(sum(sigma)) #sum of all elements of softmax function is 1.0.\n",
        "\n",
        "\n",
        "\n",
        "\n",
        "#try with random integers\n",
        "z = np.random.randint(-5, high=15, size=25) #new list lowest value -5, highest 15, max elements 25\n",
        "#print(z)\n",
        "\n",
        "#compute the softmax result\n",
        "numerator = np.exp(z)\n",
        "denominator = np.sum(numerator)\n",
        "sigma = numerator/denominator\n",
        "print(sigma)\n",
        "print(sum(sigma))\n",
        "\n",
        "#compare\n",
        "plt.plot(z, sigma, 'ko')\n",
        "plt.xlabel('Original number (z)')\n",
        "plt.ylabel('Softmaxified $\\sigma$')  #increase values in linear scale 1,2,3,4..\n",
        "plt.yscale('log')  #increase values in log scale by 10 - comment out to view linear scale\n",
        "                   #in log space implementing linear transforming of the input values on x axis \n",
        "plt.title('$\\sum\\sigma$ = %g' %np.sum (sigma)) #sigma sum is 1. using \"latex\"\n",
        "plt.show()\n",
        "\n",
        "\n",
        "#Using pytorch***********************\n",
        "\n",
        "#create an instance of the softmax activation class\n",
        "softfun = nn.Softmax(dim=0)\n",
        "\n",
        "#then apply the data to that function\n",
        "sigmaT = softfun(torch.Tensor(z)) #converting \"list\" z into a pytorch tensor\n",
        "\n",
        "#now get the results\n",
        "print(sigmaT)\n",
        "\n",
        "\n",
        "\n",
        "#show they are the same graph\n",
        "plt.plot(sigma, sigmaT, 'ko')\n",
        "plt.xlabel('\"Manual\" softmax')\n",
        "plt.ylabel('Pytorch nn.Softmax')\n",
        "plt.title('The two methods correlate at r={np.corrcoef(sigma,sigmaT)[0,1]}')\n",
        "plt.show()\n",
        "\n",
        "print(sum(sigmaT))\n",
        "\n"
      ]
    }
  ]
}