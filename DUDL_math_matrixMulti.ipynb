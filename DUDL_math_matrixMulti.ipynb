{
  "nbformat": 4,
  "nbformat_minor": 0,
  "metadata": {
    "colab": {
      "provenance": [],
      "authorship_tag": "ABX9TyPA8cWq60Qca9XyHa5OhxKx",
      "include_colab_link": true
    },
    "kernelspec": {
      "name": "python3",
      "display_name": "Python 3"
    },
    "language_info": {
      "name": "python"
    }
  },
  "cells": [
    {
      "cell_type": "markdown",
      "metadata": {
        "id": "view-in-github",
        "colab_type": "text"
      },
      "source": [
        "<a href=\"https://colab.research.google.com/github/LLewis/ai-deep-learning/blob/main/DUDL_math_matrixMulti.ipynb\" target=\"_parent\"><img src=\"https://colab.research.google.com/assets/colab-badge.svg\" alt=\"Open In Colab\"/></a>"
      ]
    },
    {
      "cell_type": "code",
      "execution_count": 29,
      "metadata": {
        "colab": {
          "base_uri": "https://localhost:8080/"
        },
        "id": "0lHpe3AzdrKr",
        "outputId": "b1e11fc8-3482-46a6-a3cb-8469ef7179e6"
      },
      "outputs": [
        {
          "output_type": "stream",
          "name": "stdout",
          "text": [
            "tensor([[ 2.1200, -0.6200,  1.2300,  1.9600, -2.4700, -1.6800, -0.1000],\n",
            "        [-3.2000, -2.3900, -1.4500,  0.1900,  0.8100, -0.1000, -3.3300],\n",
            "        [ 3.3700, -1.1800, -4.8400,  2.4200,  6.0900, -1.4300,  3.2200]])\n"
          ]
        }
      ],
      "source": [
        "#import libraries\n",
        "import numpy as np\n",
        "import torch\n",
        "\n",
        "#Using numpy------------------------\n",
        "#create some random matrices\n",
        "A = np.random.randn(3,4)\n",
        "B = np.random.randn(4,5)\n",
        "C = np.random.randn(3,7)\n",
        "\n",
        "#try some matrix multiplications....\n",
        "#the @ symbol implements the matrix multiplication \n",
        "#np.matmul(A, B)  or shorcut using the A@B like below\n",
        "#round function shortens random number \n",
        "\n",
        "#print(np.round(A@B, 2)), print(' ')\n",
        "#print(np.round(A@C, 2)), print(' ')\n",
        "#print(np.round(B@C, 2)), print(' ')\n",
        "#print(np.round(C.T@A ,2))\n",
        "\n",
        "#Using pytorch-----------------\n",
        "A = torch.randn(3,4)\n",
        "B = torch.randn(4, 5)\n",
        "C1 = np.random.randn(4 ,7)\n",
        "C2 = torch.tensor(C1 ,dtype=torch.float)\n",
        "\n",
        "\n",
        "#try some matrix multiplications....\n",
        "#print(np.round(A@B, 2)), print(' ')\n",
        "#print(np.round(A@B.T, 2)), print(' ')\n",
        "#print(np.round(A@C1, 2)), print(' ')\n",
        "print(np.round(A@C2, 2))"
      ]
    }
  ]
}