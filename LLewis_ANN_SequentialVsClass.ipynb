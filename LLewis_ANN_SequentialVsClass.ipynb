{
  "nbformat": 4,
  "nbformat_minor": 0,
  "metadata": {
    "colab": {
      "provenance": [],
      "authorship_tag": "ABX9TyN6/WjlpXIKD7g1JMm4PZRZ",
      "include_colab_link": true
    },
    "kernelspec": {
      "name": "python3",
      "display_name": "Python 3"
    },
    "language_info": {
      "name": "python"
    }
  },
  "cells": [
    {
      "cell_type": "markdown",
      "metadata": {
        "id": "view-in-github",
        "colab_type": "text"
      },
      "source": [
        "<a href=\"https://colab.research.google.com/github/LLewis/ai-deep-learning/blob/main/LLewis_ANN_SequentialVsClass.ipynb\" target=\"_parent\"><img src=\"https://colab.research.google.com/assets/colab-badge.svg\" alt=\"Open In Colab\"/></a>"
      ]
    },
    {
      "cell_type": "markdown",
      "source": [
        "Defining models using nn.Sequential vs creating own class\n",
        "Two approaches in defining models in PyTorch\n",
        "Advantages and limitations of each model\n",
        "\n",
        "Class function      Analogies\n",
        "\n",
        "def _ _init_ _():create objects here, nouns, layers, characters in the story  \n",
        "\n",
        "def forward(): Actions, verbs, operations on object or characters in a story, plot\n",
        "\n",
        "nn.Sequential - limited to model architecture, use when using off the shelve models\n",
        "vs.\n",
        "\n",
        "class(nn.Module) - more flexibility and complex; define your own class to create deep learning module.\n",
        "\n"
      ],
      "metadata": {
        "id": "-p9CDh52HiJh"
      }
    },
    {
      "cell_type": "code",
      "execution_count": 15,
      "metadata": {
        "colab": {
          "base_uri": "https://localhost:8080/"
        },
        "id": "0HRNDWdrEHEG",
        "outputId": "e839e75e-cdb0-491e-91b6-f5e4ba28ff31"
      },
      "outputs": [
        {
          "output_type": "stream",
          "name": "stderr",
          "text": [
            "<ipython-input-15-2ed741ff1e77>:15: DeprecationWarning: `set_matplotlib_formats` is deprecated since IPython 7.23, directly use `matplotlib_inline.backend_inline.set_matplotlib_formats()`\n",
            "  display.set_matplotlib_formats('svg')\n"
          ]
        }
      ],
      "source": [
        "#Sequential is limited to off shelf models vs\n",
        "#creating my own customized class(nn.Module) for deep learning models\n",
        "#defining class in pytorch\n",
        "\n",
        "#import libraries\n",
        "import torch\n",
        "import torch.nn as nn\n",
        "import numpy as np\n",
        "\n",
        "#New gives us direct access to functions without create an object, sounds similiar to static is Java\n",
        "import torch.nn.functional as F\n",
        "\n",
        "import matplotlib.pyplot as plt\n",
        "from IPython import display\n",
        "display.set_matplotlib_formats('svg')\n"
      ]
    },
    {
      "cell_type": "code",
      "source": [
        "\n",
        "\n",
        "#Define the class\n",
        "class theClass4ANN(nn.Module):\n",
        "\n",
        "  def __init__(self):\n",
        "    super().__init__()\n",
        "\n",
        "    #input layer\n",
        "    self.input = nn.Linear(2,1)\n",
        "\n",
        "    #output layer\n",
        "    self.output = nn.Linear(1,1)\n",
        "\n",
        "\n",
        "  #forward pass\n",
        "  def forward(self, x):\n",
        "\n",
        "    #pass through the input layer\n",
        "    x = self.input(x)\n",
        "\n",
        "    #apply ReLU activation function call from the functional class imported\n",
        "    x = F.relu(x)\n",
        "\n",
        "    #output layer\n",
        "    x = self.output(x)\n",
        "    x = torch.sigmoid(x)\n",
        "\n",
        "    return x\n",
        "\n",
        "\n",
        "ANNModule = theClass4ANN();  #creating an object named ANNModle from class\n",
        "\n",
        "print(ANNModule)\n",
        "\n",
        "\n"
      ],
      "metadata": {
        "colab": {
          "base_uri": "https://localhost:8080/"
        },
        "id": "GduIHYRbLneM",
        "outputId": "0dbc91ed-6ae7-4fd4-c0a3-51e2d12a948f"
      },
      "execution_count": 17,
      "outputs": [
        {
          "output_type": "stream",
          "name": "stdout",
          "text": [
            "theClass4ANN(\n",
            "  (input): Linear(in_features=2, out_features=1, bias=True)\n",
            "  (output): Linear(in_features=1, out_features=1, bias=True)\n",
            ")\n"
          ]
        }
      ]
    },
    {
      "cell_type": "code",
      "source": [],
      "metadata": {
        "id": "P4QZmmhtPSSm"
      },
      "execution_count": null,
      "outputs": []
    }
  ]
}