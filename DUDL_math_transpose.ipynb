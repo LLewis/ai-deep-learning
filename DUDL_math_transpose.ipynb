{
  "nbformat": 4,
  "nbformat_minor": 0,
  "metadata": {
    "colab": {
      "provenance": [],
      "authorship_tag": "ABX9TyM1L9AwddlzYva2DQR0p85A",
      "include_colab_link": true
    },
    "kernelspec": {
      "name": "python3",
      "display_name": "Python 3"
    },
    "language_info": {
      "name": "python"
    }
  },
  "cells": [
    {
      "cell_type": "markdown",
      "metadata": {
        "id": "view-in-github",
        "colab_type": "text"
      },
      "source": [
        "<a href=\"https://colab.research.google.com/github/LLewis/ai-deep-learning/blob/main/DUDL_math_transpose.ipynb\" target=\"_parent\"><img src=\"https://colab.research.google.com/assets/colab-badge.svg\" alt=\"Open In Colab\"/></a>"
      ]
    },
    {
      "cell_type": "code",
      "execution_count": 14,
      "metadata": {
        "colab": {
          "base_uri": "https://localhost:8080/"
        },
        "id": "3NtwCirqNIdx",
        "outputId": "a2d39d5b-c0b6-449a-e467-8cb6b231ceda"
      },
      "outputs": [
        {
          "output_type": "stream",
          "name": "stdout",
          "text": [
            "[[1 2 3 4 5 6 7 8 9]]\n",
            " \n",
            "[[1]\n",
            " [2]\n",
            " [3]\n",
            " [4]\n",
            " [5]\n",
            " [6]\n",
            " [7]\n",
            " [8]\n",
            " [9]]\n",
            " \n",
            "[[1 2 3 4 5 6 7 8 9]]\n",
            "[[1 2 3 4]\n",
            " [5 6 7 8]]\n",
            " \n",
            "[[1 5]\n",
            " [2 6]\n",
            " [3 7]\n",
            " [4 8]]\n",
            " \n",
            "[[1 2 3 4]\n",
            " [5 6 7 8]]\n"
          ]
        }
      ],
      "source": [
        "#import libraries\n",
        "import numpy as np\n",
        "import torch\n",
        "\n",
        "#create a row vector  using array function\n",
        "# the first row of the \n",
        "nv = np.array([[1,2,3,4,5,6,7,8,9]])\n",
        "print(nv), print(' ')\n",
        "\n",
        "#transpose it to column vector using the\n",
        "# T transpose function on the np.array object\n",
        "print(nv.T), print(' ')\n",
        "\n",
        "\n",
        "#transpose the transpose back to \n",
        "#it's original state\n",
        "nvT = nv.T\n",
        "print(nvT.T)\n",
        "\n",
        "#------------------------------------------\n",
        "\n",
        "#create a matrix  two rows and four column matrix\n",
        "nM = np.array([[1,2,3,4],[5,6,7,8]])\n",
        "print(nM), print(' ')\n",
        "\n",
        "#transpose the matrix \n",
        "print(nM.T), print(' ')\n",
        "\n",
        "#transpose the transpose\n",
        "nMT = nM.T\n",
        "print(nMT.T)\n",
        "\n",
        "\n",
        "\n"
      ]
    }
  ]
}