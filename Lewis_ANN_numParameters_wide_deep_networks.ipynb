{
  "nbformat": 4,
  "nbformat_minor": 0,
  "metadata": {
    "colab": {
      "provenance": [],
      "authorship_tag": "ABX9TyPFJt5Ir7KhF52xBypissUt",
      "include_colab_link": true
    },
    "kernelspec": {
      "name": "python3",
      "display_name": "Python 3"
    },
    "language_info": {
      "name": "python"
    }
  },
  "cells": [
    {
      "cell_type": "markdown",
      "metadata": {
        "id": "view-in-github",
        "colab_type": "text"
      },
      "source": [
        "<a href=\"https://colab.research.google.com/github/LLewis/ai-deep-learning/blob/main/Lewis_ANN_numParameters_wide_deep_networks.ipynb\" target=\"_parent\"><img src=\"https://colab.research.google.com/assets/colab-badge.svg\" alt=\"Open In Colab\"/></a>"
      ]
    },
    {
      "cell_type": "code",
      "execution_count": 13,
      "metadata": {
        "colab": {
          "base_uri": "https://localhost:8080/"
        },
        "id": "wa9G4DYje1Q2",
        "outputId": "aacbae89-e1f1-4e1e-b6ff-5eb33e64af1a"
      },
      "outputs": [
        {
          "output_type": "stream",
          "name": "stdout",
          "text": [
            "Sequential(\n",
            "  (0): Linear(in_features=2, out_features=4, bias=True)\n",
            "  (1): Linear(in_features=4, out_features=3, bias=True)\n",
            ")\n",
            " \n",
            "Sequential(\n",
            "  (0): Linear(in_features=2, out_features=2, bias=True)\n",
            "  (1): Linear(in_features=2, out_features=2, bias=True)\n",
            "  (2): Linear(in_features=2, out_features=3, bias=True)\n",
            ")\n"
          ]
        }
      ],
      "source": [
        "#import libraries\n",
        "import numpy as np\n",
        "import torch\n",
        "import torch.nn as nn\n",
        "\n",
        "# Build two models\n",
        "#Counting weights, which are the module parameters\n",
        "\n",
        "#a wide or breadth is determined by its number of nodes in a layer\n",
        "widenetwork = nn.Sequential(\n",
        "\n",
        "    #hidden layer, the object (nn.Linear) is the weight metrics for input 2, 4 that connect to the hiddent layer - visual ,\n",
        "    #its the transformation layer ( connecting arrows) that gets mapped to hidden layer\n",
        "    nn.Linear(2,4),  #hidden layer\n",
        "    nn.Linear(4,3)   #output layer\n",
        ")\n",
        "\n",
        "# a deep network is determined by its number of layers,\n",
        "#so this sequential deep newtork has three layers\n",
        "deepnetwork = nn.Sequential(\n",
        "    nn.Linear(2,2), #transformation layer (connecting arrows) mapped to --> #hidden layer\n",
        "    nn.Linear(2,2), #hidden layer\n",
        "    nn.Linear(2,3) #output layer\n",
        "\n",
        ")\n",
        "\n",
        "\n",
        "# print them out to have a look\n",
        "print(widenetwork)\n",
        "print(' ')\n",
        "print(deepnetwork)\n",
        "\n"
      ]
    },
    {
      "cell_type": "code",
      "source": [
        "#widenetwork\n",
        "deepnetwork\n"
      ],
      "metadata": {
        "colab": {
          "base_uri": "https://localhost:8080/"
        },
        "id": "RtrTP4WOjur6",
        "outputId": "0de49201-5e81-45ca-a492-59eb218ce30c"
      },
      "execution_count": 14,
      "outputs": [
        {
          "output_type": "execute_result",
          "data": {
            "text/plain": [
              "Sequential(\n",
              "  (0): Linear(in_features=2, out_features=2, bias=True)\n",
              "  (1): Linear(in_features=2, out_features=2, bias=True)\n",
              "  (2): Linear(in_features=2, out_features=3, bias=True)\n",
              ")"
            ]
          },
          "metadata": {},
          "execution_count": 14
        }
      ]
    },
    {
      "cell_type": "markdown",
      "source": [
        " The ouput above depicts two different sequential models\n",
        " : the first model contains two layersw\n",
        " count all trainable parameters and include the bias\n",
        "    layer 0 contains feature in with number 2 as input and output feature\n",
        " # hidden layer, the object (nn.Linear) is the weight metrics for input 2, 4 that connect to the hiddent layer - visual ,\n",
        "  #its the transformation layer ( connecting arrows) that gets mapped to hidden layer"
      ],
      "metadata": {
        "id": "fNCWBOfDaH4H"
      }
    },
    {
      "cell_type": "code",
      "source": [
        "#check out the parameters - attribute in deepnetwork\n",
        "for p in deepnetwork.named_parameters():\n",
        "  print(p)\n",
        "  print('')"
      ],
      "metadata": {
        "colab": {
          "base_uri": "https://localhost:8080/"
        },
        "id": "d7hhp6e3kbKr",
        "outputId": "25c8591d-2762-44e5-a439-f4d5210169b9"
      },
      "execution_count": 15,
      "outputs": [
        {
          "output_type": "stream",
          "name": "stdout",
          "text": [
            "('0.weight', Parameter containing:\n",
            "tensor([[-0.4897,  0.1060],\n",
            "        [ 0.4733, -0.4479]], requires_grad=True))\n",
            "\n",
            "('0.bias', Parameter containing:\n",
            "tensor([-0.2915,  0.4793], requires_grad=True))\n",
            "\n",
            "('1.weight', Parameter containing:\n",
            "tensor([[-0.6489, -0.3188],\n",
            "        [-0.2988,  0.2866]], requires_grad=True))\n",
            "\n",
            "('1.bias', Parameter containing:\n",
            "tensor([ 0.0417, -0.6648], requires_grad=True))\n",
            "\n",
            "('2.weight', Parameter containing:\n",
            "tensor([[-0.0452,  0.2804],\n",
            "        [ 0.1735, -0.0988],\n",
            "        [ 0.4580,  0.5612]], requires_grad=True))\n",
            "\n",
            "('2.bias', Parameter containing:\n",
            "tensor([-0.5880,  0.2606, -0.2908], requires_grad=True))\n",
            "\n"
          ]
        }
      ]
    },
    {
      "cell_type": "markdown",
      "source": [
        "output above is a set of variables or tuples\n",
        "     elements are in side of tuples\n",
        "     name is 0.weight\n",
        "     the four values are actual weight values\n",
        "     they are the weights that are associated with each arrow connecting to\n",
        "     these numbers will change as the model is trained\n",
        "     will the gradient affect the matrix during back propagation, so the requires_grad=True can be set to False.  Use defaul True for now.\n",
        "     bias name is 0.bias - only two values, because the first layer has two nodes.\n",
        "     \n"
      ],
      "metadata": {
        "id": "3ebk2lxdl-WR"
      }
    },
    {
      "cell_type": "code",
      "source": [
        "#count the number of nodes in each network( = the number of biases)\n",
        "#Do for both networks\n",
        "# every node in the network has one bias value, so count\n",
        "# the number of times the string biases appears\n",
        "#so loop through each networks and view each parameter\n",
        "#and search for the string name 'bias' in each parameter\n",
        "#if bias is found , then accumulate this total and display\n",
        "\n",
        "#looking at the named_parameters() which is an iterable that returns the tuple (name,numbers)\n",
        "\n",
        "numNodesInWide = 0\n",
        "for p in widenetwork.named_parameters():\n",
        "  if 'bias' in p[0]:   #first element in tuple\n",
        "    numNodesInWide += len(p[1])  #second element in tuple with corresponds to the bias term\n",
        "\n",
        "\n",
        "numNodesInDeep = 0\n",
        "#using more interpreterable variables- helps to unpack network\n",
        "for paramName, paramVect in deepnetwork.named_parameters():\n",
        "  if 'bias' in paramName:\n",
        "    numNodesInDeep += len(paramVect)\n",
        "\n",
        "print('There are %s nodes in the wide network. '  %numNodesInWide)\n",
        "print('There are %s nodes in the deep network. ' %numNodesInDeep)"
      ],
      "metadata": {
        "colab": {
          "base_uri": "https://localhost:8080/"
        },
        "id": "3mqNQBn5oab8",
        "outputId": "199f37f8-7019-4a66-ae6b-d915df062f70"
      },
      "execution_count": 16,
      "outputs": [
        {
          "output_type": "stream",
          "name": "stdout",
          "text": [
            "There are 7 nodes in the wide network. \n",
            "There are 7 nodes in the deep network. \n"
          ]
        }
      ]
    },
    {
      "cell_type": "code",
      "source": [
        "#Just the parameters only\n",
        "#accessing the matrix of weights and bias\n",
        "#parameters() does not provide the name like the named_parameters() method\n",
        "for p in widenetwork.parameters():\n",
        "  print(p)\n",
        "  print(' ')"
      ],
      "metadata": {
        "colab": {
          "base_uri": "https://localhost:8080/"
        },
        "id": "AiQ_uJAfqFK3",
        "outputId": "679a933f-d7c7-49a8-d8ca-88482729727a"
      },
      "execution_count": 17,
      "outputs": [
        {
          "output_type": "stream",
          "name": "stdout",
          "text": [
            "Parameter containing:\n",
            "tensor([[ 0.2453,  0.1243],\n",
            "        [ 0.5080,  0.1516],\n",
            "        [ 0.3101,  0.0464],\n",
            "        [ 0.2599, -0.6829]], requires_grad=True)\n",
            " \n",
            "Parameter containing:\n",
            "tensor([ 0.3568, -0.2602, -0.4650,  0.4226], requires_grad=True)\n",
            " \n",
            "Parameter containing:\n",
            "tensor([[-0.4973,  0.4664,  0.4612, -0.2624],\n",
            "        [ 0.1444,  0.0607,  0.2827,  0.2991],\n",
            "        [-0.0252, -0.2714, -0.3501,  0.0600]], requires_grad=True)\n",
            " \n",
            "Parameter containing:\n",
            "tensor([ 0.2774, -0.0426,  0.1228], requires_grad=True)\n",
            " \n"
          ]
        }
      ]
    },
    {
      "cell_type": "code",
      "source": [
        "#Now count the total number of trainable parameters\n",
        "\n",
        "nparams = 0\n",
        "for p in widenetwork.parameters():\n",
        "  if p.requires_grad:  #if requires_grad is set to True\n",
        "    print('This piece has %s parameters' %p.numel())\n",
        "    nparams += p.numel()\n",
        "\n",
        "print('\\n\\nTotal of %s parameetrs' %nparams)"
      ],
      "metadata": {
        "colab": {
          "base_uri": "https://localhost:8080/"
        },
        "id": "6o-o7hEHs_48",
        "outputId": "226f7c0c-106a-4b11-fa69-f55bd44677f7"
      },
      "execution_count": 18,
      "outputs": [
        {
          "output_type": "stream",
          "name": "stdout",
          "text": [
            "This piece has 8 parameters\n",
            "This piece has 4 parameters\n",
            "This piece has 12 parameters\n",
            "This piece has 3 parameters\n",
            "\n",
            "\n",
            "Total of 27 parameetrs\n"
          ]
        }
      ]
    },
    {
      "cell_type": "code",
      "source": [
        "#can also use list comprehension\n",
        "\n",
        "nparams = np.sum([p.numel() for p in widenetwork.parameters() if p.requires_grad])\n",
        "print('Widenet has %s parameters' %nparams)\n",
        "\n",
        "nparams = np.sum([p.numel() for p in deepnetwork.parameters() if p.requires_grad])\n",
        "print('Deepnet has %s parameters' %nparams)\n",
        "\n"
      ],
      "metadata": {
        "colab": {
          "base_uri": "https://localhost:8080/"
        },
        "id": "ChqplEnL-ySj",
        "outputId": "0dac9087-e2e8-485a-f1bf-393b9a5fbc67"
      },
      "execution_count": 19,
      "outputs": [
        {
          "output_type": "stream",
          "name": "stdout",
          "text": [
            "Widenet has 27 parameters\n",
            "Deepnet has 21 parameters\n"
          ]
        }
      ]
    },
    {
      "cell_type": "code",
      "source": [
        "#nice simple way to print out the model info.\n",
        "#importing the function \"summary\" from the torchsummnary library\n",
        "from torchsummary import summary\n",
        "summary(widenetwork,(1,2)) #size of the input or the data matrix that I'm putting into the model"
      ],
      "metadata": {
        "colab": {
          "base_uri": "https://localhost:8080/"
        },
        "id": "lRhm44KnAXSf",
        "outputId": "7e3da64f-5ba5-44a5-933d-9b336fd31842"
      },
      "execution_count": 20,
      "outputs": [
        {
          "output_type": "stream",
          "name": "stdout",
          "text": [
            "----------------------------------------------------------------\n",
            "        Layer (type)               Output Shape         Param #\n",
            "================================================================\n",
            "            Linear-1                 [-1, 1, 4]              12\n",
            "            Linear-2                 [-1, 1, 3]              15\n",
            "================================================================\n",
            "Total params: 27\n",
            "Trainable params: 27\n",
            "Non-trainable params: 0\n",
            "----------------------------------------------------------------\n",
            "Input size (MB): 0.00\n",
            "Forward/backward pass size (MB): 0.00\n",
            "Params size (MB): 0.00\n",
            "Estimated Total Size (MB): 0.00\n",
            "----------------------------------------------------------------\n"
          ]
        }
      ]
    }
  ]
}