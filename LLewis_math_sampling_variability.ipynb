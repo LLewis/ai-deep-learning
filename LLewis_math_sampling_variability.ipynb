{
  "nbformat": 4,
  "nbformat_minor": 0,
  "metadata": {
    "colab": {
      "provenance": [],
      "authorship_tag": "ABX9TyOSLbsuj3ITR9riSxiBA9OF",
      "include_colab_link": true
    },
    "kernelspec": {
      "name": "python3",
      "display_name": "Python 3"
    },
    "language_info": {
      "name": "python"
    }
  },
  "cells": [
    {
      "cell_type": "markdown",
      "metadata": {
        "id": "view-in-github",
        "colab_type": "text"
      },
      "source": [
        "<a href=\"https://colab.research.google.com/github/LLewis/ai-deep-learning/blob/main/LLewis_math_sampling_variability.ipynb\" target=\"_parent\"><img src=\"https://colab.research.google.com/assets/colab-badge.svg\" alt=\"Open In Colab\"/></a>"
      ]
    },
    {
      "cell_type": "code",
      "execution_count": 34,
      "metadata": {
        "colab": {
          "base_uri": "https://localhost:8080/",
          "height": 522
        },
        "id": "rCQy4glJyJOi",
        "outputId": "b459d233-014f-49f7-9216-4bb304fbdfe3"
      },
      "outputs": [
        {
          "output_type": "stream",
          "name": "stdout",
          "text": [
            "List x length: 16\n",
            "List x (Populaiton) mean:  1.625\n",
            "Sample [ 1  4  4 -4  6]\n",
            "Sample Mean 2.2\n"
          ]
        },
        {
          "output_type": "display_data",
          "data": {
            "text/plain": [
              "<Figure size 640x480 with 1 Axes>"
            ],
            "image/png": "[encoded data removed]"
          },
          "metadata": {}
        }
      ],
      "source": [
        "#import libraries\n",
        "\n",
        "import numpy as np\n",
        "import matplotlib.pyplot as plt\n",
        "\n",
        "#create a list of num bers to compute the mean and variance of, for example height of all population in some city\n",
        "x = [1,2,4,6,5,4,0,-4,5,-2,6,10,-9,1,3,-6]\n",
        "n = len(x)\n",
        "print('List x length:' , n)\n",
        "\n",
        "#compute the population mean\n",
        "popmean = np.mean(x)\n",
        "print('List x (Populaiton) mean: ', popmean)\n",
        "\n",
        "#compute a sample mean, choice method says to get five elements from the list x and replace with a new value at each execution\n",
        "sample = np.random.choice(x, size=5, replace=True)\n",
        "print('Sample', sample)\n",
        "\n",
        "#Since the sample is small the sample mean does not quite make sense, so use larger samples\n",
        "samplemean = np.mean(sample)\n",
        "print('Sample Mean',  samplemean)\n",
        "\n",
        "#---------------------------------------------\n",
        "\n",
        "#number of experiments with larger samples to run\n",
        "nExpers = 10000\n",
        "#run the experiment.  the zeros method fills the sampleMeans with zeros \n",
        "sampleMeans = np.zeros(nExpers)\n",
        "for i in range(nExpers):\n",
        "\n",
        "  #step 1: draw a sample\n",
        "  sample = np.random.choice(x, size=5, replace=True)\n",
        "\n",
        "  #step 2: compute the sample mean\n",
        "  sampleMeans[i] = np.mean(sample)\n",
        "\n",
        "#show the results as a histogram\n",
        "plt.hist(sampleMeans, bins=40, density=True)\n",
        "# popmean is true mean, as number of experiments increase, blue bars, \n",
        "#the average is getting closer to the true mean, top blue bar \n",
        "#y is yellow, g is green, m is magenta etc.\n",
        "#Law of Large numbers\n",
        "plt.plot([popmean,popmean],[0,.3], 'y--') \n",
        "plt.ylabel('Count')\n",
        "#sample mean distribution\n",
        "plt.xlabel('Sample mean')\n",
        "plt.show()\n",
        "\n"
      ]
    }
  ]
}