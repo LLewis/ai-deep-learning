{
  "nbformat": 4,
  "nbformat_minor": 0,
  "metadata": {
    "colab": {
      "provenance": [],
      "authorship_tag": "ABX9TyOI5TAg7Md+h1nFXUjnguKh",
      "include_colab_link": true
    },
    "kernelspec": {
      "name": "python3",
      "display_name": "Python 3"
    },
    "language_info": {
      "name": "python"
    }
  },
  "cells": [
    {
      "cell_type": "markdown",
      "metadata": {
        "id": "view-in-github",
        "colab_type": "text"
      },
      "source": [
        "<a href=\"https://colab.research.google.com/github/LLewis/ai-deep-learning/blob/main/DUDL_math_softmax_function.ipynb\" target=\"_parent\"><img src=\"https://colab.research.google.com/assets/colab-badge.svg\" alt=\"Open In Colab\"/></a>"
      ]
    },
    {
      "cell_type": "code",
      "execution_count": 23,
      "metadata": {
        "colab": {
          "base_uri": "https://localhost:8080/",
          "height": 853
        },
        "id": "X1JFK4vlnvll",
        "outputId": "675efb9c-0219-4f5e-d586-db048d450fb6"
      },
      "outputs": [
        {
          "output_type": "stream",
          "name": "stdout",
          "text": [
            "[0.09003057 0.24472847 0.66524096]\n",
            "1.0\n",
            "[1.02141545e-06 1.66240258e-01 1.51591493e-04 5.57673939e-05\n",
            " 3.75757744e-07 6.11563733e-02 3.75757744e-07 7.54729605e-06\n",
            " 2.05156777e-05 1.38233549e-07 6.11563733e-02 7.54729605e-06\n",
            " 7.54729605e-06 1.12011805e-03 6.11563733e-02 8.27661510e-03\n",
            " 1.87078765e-08 1.87078765e-08 1.87078765e-08 4.51887873e-01\n",
            " 7.54729605e-06 1.66240258e-01 7.54729605e-06 2.24981724e-02\n",
            " 6.88224315e-09]\n",
            "0.9999999999999999\n"
          ]
        },
        {
          "output_type": "display_data",
          "data": {
            "text/plain": [
              "<Figure size 432x288 with 1 Axes>"
            ],
            "image/png": "[encoded data removed]"
          },
          "metadata": {
            "needs_background": "light"
          }
        },
        {
          "output_type": "stream",
          "name": "stdout",
          "text": [
            "tensor([1.0214e-06, 1.6624e-01, 1.5159e-04, 5.5767e-05, 3.7576e-07, 6.1156e-02,\n",
            "        3.7576e-07, 7.5473e-06, 2.0516e-05, 1.3823e-07, 6.1156e-02, 7.5473e-06,\n",
            "        7.5473e-06, 1.1201e-03, 6.1156e-02, 8.2766e-03, 1.8708e-08, 1.8708e-08,\n",
            "        1.8708e-08, 4.5189e-01, 7.5473e-06, 1.6624e-01, 7.5473e-06, 2.2498e-02,\n",
            "        6.8822e-09])\n"
          ]
        },
        {
          "output_type": "display_data",
          "data": {
            "text/plain": [
              "<Figure size 432x288 with 1 Axes>"
            ],
            "image/png": "[encoded data removed]"
          },
          "metadata": {
            "needs_background": "light"
          }
        }
      ],
      "source": [
        "#import libraries\n",
        "import numpy as np\n",
        "import torch\n",
        "import torch.nn as nn #neural networks\n",
        "import matplotlib.pyplot as plt  #graph visualization\n",
        "\n",
        "#manually compute softmax func in numpy\n",
        "\n",
        "#list f numbers\n",
        "z = [1, 2, 3]\n",
        "#compute the softmax func result manually\n",
        "#softmax formula using python code \n",
        "\n",
        "numerator = np.exp(z) #calculate the \"exp^z\" each element \"z\" set to the powe of \n",
        "                      # the exp 2.178  \n",
        "denominator = np.sum(np.exp(z))  #summing each element in \"zead\" z\n",
        "sigma = numerator/denominator  #output of softmax function -divide each element into denominator\n",
        "print(sigma)  #output probability for each element for p(thing1), p(thing2), p(thing3)\n",
        "print(sum(sigma)) #sum of all elements of softmax function is 1.0.\n",
        "\n",
        "\n",
        "\n",
        "\n",
        "#try with random integers\n",
        "z = np.random.randint(-5, high=15, size=25) #new list lowest value -5, highest 15, max elements 25\n",
        "#print(z)\n",
        "\n",
        "#compute the softmax result\n",
        "numerator = np.exp(z)\n",
        "denominator = np.sum(numerator)\n",
        "sigma = numerator/denominator\n",
        "print(sigma)\n",
        "print(sum(sigma))\n",
        "\n",
        "#compare\n",
        "plt.plot(z, sigma, 'ko')\n",
        "plt.xlabel('Original number (z)')\n",
        "plt.ylabel('Softmaxified $\\sigma$')  #increase values in linear scale 1,2,3,4..\n",
        "plt.yscale('log')  #increase values in log scale by 10 - comment out to view linear scale\n",
        "                   #in log space implementing linear transforming of the input values on x axis \n",
        "plt.title('$\\sum\\sigma$ = %g' %np.sum (sigma)) #sigma sum is 1. using \"latex\"\n",
        "plt.show()\n",
        "\n",
        "\n",
        "#Using pytorch***********************\n",
        "\n",
        "#create an instance of the softmax activation class\n",
        "softfun = nn.Softmax(dim=0)\n",
        "\n",
        "#then apply the data to that function\n",
        "sigmaT = softfun(torch.Tensor(z)) #converting \"list\" z into a pytorch tensor\n",
        "\n",
        "#now get the results\n",
        "print(sigmaT)\n",
        "\n",
        "\n",
        "\n",
        "#show they are the same graph\n",
        "plt.plot(sigma, sigmaT, 'ko')\n",
        "plt.xlabel('\"Manual\" softmax')\n",
        "plt.ylabel('Pytorch nn.Softmax')\n",
        "plt.title('The two methods correlate at r={np.corrcoef(sigma,sigmaT)[0,1]}')\n",
        "plt.show()\n",
        "\n"
      ]
    },
    {
      "cell_type": "markdown",
      "source": [
        "\n",
        "Softmax is a mathematical function that converts a vector of numbers into a vector of probabilities, where the probabilities of each value are proportional to the relative scale of each value in the vector."
      ],
      "metadata": {
        "id": "07sPMpe5nxMG"
      }
    }
  ]
}