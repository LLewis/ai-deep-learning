{
  "nbformat": 4,
  "nbformat_minor": 0,
  "metadata": {
    "colab": {
      "provenance": [],
      "authorship_tag": "ABX9TyOOi0BZevlzkatrI618AbEY",
      "include_colab_link": true
    },
    "kernelspec": {
      "name": "python3",
      "display_name": "Python 3"
    },
    "language_info": {
      "name": "python"
    }
  },
  "cells": [
    {
      "cell_type": "markdown",
      "metadata": {
        "id": "view-in-github",
        "colab_type": "text"
      },
      "source": [
        "<a href=\"https://colab.research.google.com/github/LLewis/ai-deep-learning/blob/main/LLewis_Challenge_Class_ANN_multilayer.ipynb\" target=\"_parent\"><img src=\"https://colab.research.google.com/assets/colab-badge.svg\" alt=\"Open In Colab\"/></a>"
      ]
    },
    {
      "cell_type": "code",
      "execution_count": 65,
      "metadata": {
        "colab": {
          "base_uri": "https://localhost:8080/"
        },
        "id": "c8-ac7fiWcPM",
        "outputId": "6414c82a-02cf-4213-82cf-b8a43435b3b4"
      },
      "outputs": [
        {
          "output_type": "stream",
          "name": "stderr",
          "text": [
            "<ipython-input-65-90559680960d>:15: DeprecationWarning: `set_matplotlib_formats` is deprecated since IPython 7.23, directly use `matplotlib_inline.backend_inline.set_matplotlib_formats()`\n",
            "  display.set_matplotlib_formats('svg')\n"
          ]
        }
      ],
      "source": [
        "#Sequential is limited to off shelf models vs\n",
        "#creating my own customized class(nn.Module) for deep learning models\n",
        "#defining class in pytorch\n",
        "\n",
        "#import libraries\n",
        "import torch\n",
        "import torch.nn as nn\n",
        "import numpy as np\n",
        "\n",
        "#New gives us direct access to functions without create an object, sounds similiar to static is Java\n",
        "import torch.nn.functional as F\n",
        "\n",
        "import matplotlib.pyplot as plt\n",
        "from IPython import display\n",
        "display.set_matplotlib_formats('svg')"
      ]
    },
    {
      "cell_type": "code",
      "source": [
        "# Create Data\n",
        "#Create the data\n",
        "\n",
        "nPerClust = 100\n",
        "blur = 1  #this is my standard diviation - shows spreadout the data value (individual data points) is from its cluster\n",
        "\n",
        "#x , y center quartenants for the data cloud\n",
        "# so A will be center with x= 1, and y = 3\n",
        "# and B will be center with x=1, and y = -2\n",
        "#this changes how the qwerties ,blue boxes and black sqaure are plotted on graph - vertical juxtaposition\n",
        "A = [1,3]\n",
        "B = [1,-2]\n",
        "\n",
        "#Generate Data\n",
        "#add random numbers to each element value in  vector A and B\n",
        "a = [ A[0]+np.random.randn(nPerClust)*blur, A[1]+np.random.randn(nPerClust)*blur ]\n",
        "b = [ B[0]+np.random.randn(nPerClust)*blur, B[1]+ np.random.randn(nPerClust)*blur ]\n",
        "\n",
        "#Creating the Category labels -dummy coded category labels - coverting to numbers\n",
        "#one half of data is qwerty type ZEROS and the other half is qwerty type ONES\n",
        "#this creates the categories\n",
        "labels_np = np.vstack((np.zeros((nPerClust,1)), np.ones((nPerClust,1))))\n",
        "\n",
        "#here I'm stacking each vector into one data matrix (array) - concatenate into a matrix using T - Transpose\n",
        "data_np = np.hstack((a,b)).T\n",
        "\n",
        "#Convert to a pytorch tensor - a vector in pytorch\n",
        "data = torch.tensor(data_np).float()\n",
        "labels = torch.tensor(labels_np).float()"
      ],
      "metadata": {
        "id": "idAeZIUv0hEq"
      },
      "execution_count": 66,
      "outputs": []
    },
    {
      "cell_type": "code",
      "source": [
        "#Create class for ANN mutilayer\n",
        "def createANNmodel(learningRate):\n",
        "\n",
        "    class theClass4ANNMultilayer(nn.Module):\n",
        "      def __init__ (self):\n",
        "        super().__init__()\n",
        "\n",
        "        #input layer\n",
        "        self.input = nn.Linear(2,16)\n",
        "\n",
        "        #hiddent layer\n",
        "        self.hidden = nn.Linear(16,1)\n",
        "\n",
        "        #output layer\n",
        "        self.output = nn.Linear(1,1)\n",
        "\n",
        "      #forward pass\n",
        "      def forward(self, x):\n",
        "\n",
        "        #input layer\n",
        "        x = self.input(x) #x goes through the Linear layer here\n",
        "                           #can combine - x = F.relu(self.input(x)) the activation func executes after the weighted sum of of the inputs from Linear function\n",
        "        x = F.relu(x)\n",
        "\n",
        "        #hidden layer\n",
        "        x = self.hidden(x)\n",
        "        x = F.relu(x)\n",
        "\n",
        "        #return output layer\n",
        "        x = self.output(x)\n",
        "        x = torch.sigmoid(x)\n",
        "        return x     #returns the model\n",
        "\n",
        "  #createn the model instance\n",
        "    ANNclassify = theClass4ANNMultilayer()\n",
        "\n",
        "    #loss function\n",
        "    lossfun = nn.BCELoss()\n",
        "\n",
        "    #optimizer\n",
        "    optimizer = torch.optim.SGD(ANNclassify.parameters(), lr=learningRate)\n",
        "\n",
        "    return ANNclassify,lossfun,optimizer\n",
        "\n",
        "\n",
        "\n",
        "\n",
        "\n",
        "\n",
        "\n",
        "\n"
      ],
      "metadata": {
        "id": "AvI8FdLwXDGk"
      },
      "execution_count": 72,
      "outputs": []
    },
    {
      "cell_type": "code",
      "source": [
        "numepochs = 100\n",
        "\n",
        "def trainTheModel(ANNmodel):\n",
        "\n",
        "  #initialize losses\n",
        "  losses = torch.zeros(numepochs)\n",
        "\n",
        "  #loop over epochs\n",
        "  for epochi in range(numepochs):\n",
        "\n",
        "    #forward pass\n",
        "    yHat = ANNmodel(data)\n",
        "\n",
        "    #compute the loss\n",
        "    loss = lossfun(yHat, labels)\n",
        "    losses[epochi] = loss\n",
        "\n",
        "    #backpropagation\n",
        "    optimizer.zero_grad()\n",
        "    loss.backward()\n",
        "    optimizer.step()\n",
        "\n",
        "\n",
        "  #final forward pass\n",
        "  predictions = ANNmodel(data)\n",
        "\n",
        "  #compute the predictions and report accuracy\n",
        "  # NOTE:  Wasn't this \">0\" previously ? ! - reason - Im using the actual Sigmoid function - so I set its center .5 ? unlike if I would have\n",
        "  # used the BCEWeightLogitsLoss() function, it calculates in the Sigmoid center .5 and therefore in previous coding exercise I used .0 in comparison\n",
        "  totalacc = 100*torch.mean(((predictions>.5) == labels).float())   #.5 is the decision boundary\n",
        "\n",
        "\n",
        "  return losses,predictions,totalacc\n"
      ],
      "metadata": {
        "id": "eML8w6uFUa6j"
      },
      "execution_count": null,
      "outputs": []
    },
    {
      "cell_type": "code",
      "source": [
        "from functools import total_ordering\n",
        "#create everything here\n",
        "\n",
        "ANNclassify,lossfun,optimizer = createANNmodel(.01)\n",
        "\n",
        "#Run it\n",
        "losses,predictions,totalacc = trainTheModel(ANNclassify)\n",
        "\n",
        "#report accuracy\n",
        "print('Final accuracy: %g%%' %totalacc)\n",
        "\n",
        "#Show the losses\n",
        "plt.plot(losses.detach(), 'o',markerfacecolor='w',linewidth=.1)\n",
        "plt.xlabel('Epoch')\n",
        "plt.ylabel('Loss')\n",
        "plt.show()\n",
        "\n"
      ],
      "metadata": {
        "colab": {
          "base_uri": "https://localhost:8080/",
          "height": 455
        },
        "id": "luPSvijT0w_C",
        "outputId": "26deceb2-8596-4ceb-da8d-d9b6c5c1d76d"
      },
      "execution_count": 89,
      "outputs": [
        {
          "output_type": "stream",
          "name": "stdout",
          "text": [
            "Final accuracy: 98.5%\n"
          ]
        },
        {
          "output_type": "display_data",
          "data": {
            "text/plain": [
              "<Figure size 640x480 with 1 Axes>"
            ],
            "image/svg+xml": "<?xml version=\"1.0\" encoding=\"utf-8\" standalone=\"no\"?>\n<!DOCTYPE svg PUBLIC \"-//W3C//DTD SVG 1.1//EN\"\n  \"http://www.w3.org/Graphics/SVG/1.1/DTD/svg11.dtd\">\n<svg xmlns:xlink=\"http://www.w3.org/1999/xlink\" width=\"414.46375pt\" height=\"310.86825pt\" viewBox=\"0 0 414.46375 310.86825\" xmlns=\"http://www.w3.org/2000/svg\" version=\"1.1\">\n <metadata>\n  <rdf:RDF xmlns:dc=\"http://purl.org/dc/elements/1.1/\" xmlns:cc=\"http://creativecommons.org/ns#\" xmlns:rdf=\"http://www.w3.org/1999/02/22-rdf-syntax-ns#\">\n   <cc:Work>\n    <dc:type rdf:resource=\"http://purl.org/dc/dcmitype/StillImage\"/>\n    <dc:date>2024-01-29T22:31:03.820669</dc:date>\n    <dc:format>image/svg+xml</dc:format>\n    <dc:creator>\n     <cc:Agent>\n      <dc:title>Matplotlib v3.7.1, https://matplotlib.org/</dc:title>\n     </cc:Agent>\n    </dc:creator>\n   </cc:Work>\n  </rdf:RDF>\n </metadata>\n <defs>\n  <style type=\"text/css\">*{stroke-linejoin: round; stroke-linecap: butt}</style>\n </defs>\n <g id=\"figure_1\">\n  <g id=\"patch_1\">\n   <path d=\"M 0 310.86825 \nL 414.46375 310.86825 \nL 414.46375 0 \nL 0 0 \nz\n\" style=\"fill: #ffffff\"/>\n  </g>\n  <g id=\"axes_1\">\n   <g id=\"patch_2\">\n    <path d=\"M 50.14375 273.312 \nL 407.26375 273.312 \nL 407.26375 7.2 \nL 50.14375 7.2 \nz\n\" style=\"fill: #ffffff\"/>\n   </g>\n   <g id=\"matplotlib.axis_1\">\n    <g id=\"xtick_1\">\n     <g id=\"line2d_1\">\n      <defs>\n       <path id=\"mb0a9116b3f\" d=\"M 0 0 \nL 0 3.5 \n\" style=\"stroke: #000000; stroke-width: 0.8\"/>\n      </defs>\n      <g>\n       <use xlink:href=\"#mb0a9116b3f\" x=\"66.376477\" y=\"273.312\" style=\"stroke: #000000; stroke-width: 0.8\"/>\n      </g>\n     </g>\n     <g id=\"text_1\">\n      <!-- 0 -->\n      <g transform=\"translate(63.195227 287.910437) scale(0.1 -0.1)\">\n       <defs>\n        <path id=\"DejaVuSans-30\" d=\"M 2034 4250 \nQ 1547 4250 1301 3770 \nQ 1056 3291 1056 2328 \nQ 1056 1369 1301 889 \nQ 1547 409 2034 409 \nQ 2525 409 2770 889 \nQ 3016 1369 3016 2328 \nQ 3016 3291 2770 3770 \nQ 2525 4250 2034 4250 \nz\nM 2034 4750 \nQ 2819 4750 3233 4129 \nQ 3647 3509 3647 2328 \nQ 3647 1150 3233 529 \nQ 2819 -91 2034 -91 \nQ 1250 -91 836 529 \nQ 422 1150 422 2328 \nQ 422 3509 836 4129 \nQ 1250 4750 2034 4750 \nz\n\" transform=\"scale(0.015625)\"/>\n       </defs>\n       <use xlink:href=\"#DejaVuSans-30\"/>\n      </g>\n     </g>\n    </g>\n    <g id=\"xtick_2\">\n     <g id=\"line2d_2\">\n      <g>\n       <use xlink:href=\"#mb0a9116b3f\" x=\"131.963254\" y=\"273.312\" style=\"stroke: #000000; stroke-width: 0.8\"/>\n      </g>\n     </g>\n     <g id=\"text_2\">\n      <!-- 20 -->\n      <g transform=\"translate(125.600754 287.910437) scale(0.1 -0.1)\">\n       <defs>\n        <path id=\"DejaVuSans-32\" d=\"M 1228 531 \nL 3431 531 \nL 3431 0 \nL 469 0 \nL 469 531 \nQ 828 903 1448 1529 \nQ 2069 2156 2228 2338 \nQ 2531 2678 2651 2914 \nQ 2772 3150 2772 3378 \nQ 2772 3750 2511 3984 \nQ 2250 4219 1831 4219 \nQ 1534 4219 1204 4116 \nQ 875 4013 500 3803 \nL 500 4441 \nQ 881 4594 1212 4672 \nQ 1544 4750 1819 4750 \nQ 2544 4750 2975 4387 \nQ 3406 4025 3406 3419 \nQ 3406 3131 3298 2873 \nQ 3191 2616 2906 2266 \nQ 2828 2175 2409 1742 \nQ 1991 1309 1228 531 \nz\n\" transform=\"scale(0.015625)\"/>\n       </defs>\n       <use xlink:href=\"#DejaVuSans-32\"/>\n       <use xlink:href=\"#DejaVuSans-30\" x=\"63.623047\"/>\n      </g>\n     </g>\n    </g>\n    <g id=\"xtick_3\">\n     <g id=\"line2d_3\">\n      <g>\n       <use xlink:href=\"#mb0a9116b3f\" x=\"197.550031\" y=\"273.312\" style=\"stroke: #000000; stroke-width: 0.8\"/>\n      </g>\n     </g>\n     <g id=\"text_3\">\n      <!-- 40 -->\n      <g transform=\"translate(191.187531 287.910437) scale(0.1 -0.1)\">\n       <defs>\n        <path id=\"DejaVuSans-34\" d=\"M 2419 4116 \nL 825 1625 \nL 2419 1625 \nL 2419 4116 \nz\nM 2253 4666 \nL 3047 4666 \nL 3047 1625 \nL 3713 1625 \nL 3713 1100 \nL 3047 1100 \nL 3047 0 \nL 2419 0 \nL 2419 1100 \nL 313 1100 \nL 313 1709 \nL 2253 4666 \nz\n\" transform=\"scale(0.015625)\"/>\n       </defs>\n       <use xlink:href=\"#DejaVuSans-34\"/>\n       <use xlink:href=\"#DejaVuSans-30\" x=\"63.623047\"/>\n      </g>\n     </g>\n    </g>\n    <g id=\"xtick_4\">\n     <g id=\"line2d_4\">\n      <g>\n       <use xlink:href=\"#mb0a9116b3f\" x=\"263.136808\" y=\"273.312\" style=\"stroke: #000000; stroke-width: 0.8\"/>\n      </g>\n     </g>\n     <g id=\"text_4\">\n      <!-- 60 -->\n      <g transform=\"translate(256.774308 287.910437) scale(0.1 -0.1)\">\n       <defs>\n        <path id=\"DejaVuSans-36\" d=\"M 2113 2584 \nQ 1688 2584 1439 2293 \nQ 1191 2003 1191 1497 \nQ 1191 994 1439 701 \nQ 1688 409 2113 409 \nQ 2538 409 2786 701 \nQ 3034 994 3034 1497 \nQ 3034 2003 2786 2293 \nQ 2538 2584 2113 2584 \nz\nM 3366 4563 \nL 3366 3988 \nQ 3128 4100 2886 4159 \nQ 2644 4219 2406 4219 \nQ 1781 4219 1451 3797 \nQ 1122 3375 1075 2522 \nQ 1259 2794 1537 2939 \nQ 1816 3084 2150 3084 \nQ 2853 3084 3261 2657 \nQ 3669 2231 3669 1497 \nQ 3669 778 3244 343 \nQ 2819 -91 2113 -91 \nQ 1303 -91 875 529 \nQ 447 1150 447 2328 \nQ 447 3434 972 4092 \nQ 1497 4750 2381 4750 \nQ 2619 4750 2861 4703 \nQ 3103 4656 3366 4563 \nz\n\" transform=\"scale(0.015625)\"/>\n       </defs>\n       <use xlink:href=\"#DejaVuSans-36\"/>\n       <use xlink:href=\"#DejaVuSans-30\" x=\"63.623047\"/>\n      </g>\n     </g>\n    </g>\n    <g id=\"xtick_5\">\n     <g id=\"line2d_5\">\n      <g>\n       <use xlink:href=\"#mb0a9116b3f\" x=\"328.723585\" y=\"273.312\" style=\"stroke: #000000; stroke-width: 0.8\"/>\n      </g>\n     </g>\n     <g id=\"text_5\">\n      <!-- 80 -->\n      <g transform=\"translate(322.361085 287.910437) scale(0.1 -0.1)\">\n       <defs>\n        <path id=\"DejaVuSans-38\" d=\"M 2034 2216 \nQ 1584 2216 1326 1975 \nQ 1069 1734 1069 1313 \nQ 1069 891 1326 650 \nQ 1584 409 2034 409 \nQ 2484 409 2743 651 \nQ 3003 894 3003 1313 \nQ 3003 1734 2745 1975 \nQ 2488 2216 2034 2216 \nz\nM 1403 2484 \nQ 997 2584 770 2862 \nQ 544 3141 544 3541 \nQ 544 4100 942 4425 \nQ 1341 4750 2034 4750 \nQ 2731 4750 3128 4425 \nQ 3525 4100 3525 3541 \nQ 3525 3141 3298 2862 \nQ 3072 2584 2669 2484 \nQ 3125 2378 3379 2068 \nQ 3634 1759 3634 1313 \nQ 3634 634 3220 271 \nQ 2806 -91 2034 -91 \nQ 1263 -91 848 271 \nQ 434 634 434 1313 \nQ 434 1759 690 2068 \nQ 947 2378 1403 2484 \nz\nM 1172 3481 \nQ 1172 3119 1398 2916 \nQ 1625 2713 2034 2713 \nQ 2441 2713 2670 2916 \nQ 2900 3119 2900 3481 \nQ 2900 3844 2670 4047 \nQ 2441 4250 2034 4250 \nQ 1625 4250 1398 4047 \nQ 1172 3844 1172 3481 \nz\n\" transform=\"scale(0.015625)\"/>\n       </defs>\n       <use xlink:href=\"#DejaVuSans-38\"/>\n       <use xlink:href=\"#DejaVuSans-30\" x=\"63.623047\"/>\n      </g>\n     </g>\n    </g>\n    <g id=\"xtick_6\">\n     <g id=\"line2d_6\">\n      <g>\n       <use xlink:href=\"#mb0a9116b3f\" x=\"394.310362\" y=\"273.312\" style=\"stroke: #000000; stroke-width: 0.8\"/>\n      </g>\n     </g>\n     <g id=\"text_6\">\n      <!-- 100 -->\n      <g transform=\"translate(384.766612 287.910437) scale(0.1 -0.1)\">\n       <defs>\n        <path id=\"DejaVuSans-31\" d=\"M 794 531 \nL 1825 531 \nL 1825 4091 \nL 703 3866 \nL 703 4441 \nL 1819 4666 \nL 2450 4666 \nL 2450 531 \nL 3481 531 \nL 3481 0 \nL 794 0 \nL 794 531 \nz\n\" transform=\"scale(0.015625)\"/>\n       </defs>\n       <use xlink:href=\"#DejaVuSans-31\"/>\n       <use xlink:href=\"#DejaVuSans-30\" x=\"63.623047\"/>\n       <use xlink:href=\"#DejaVuSans-30\" x=\"127.246094\"/>\n      </g>\n     </g>\n    </g>\n    <g id=\"text_7\">\n     <!-- Epoch -->\n     <g transform=\"translate(213.392813 301.588562) scale(0.1 -0.1)\">\n      <defs>\n       <path id=\"DejaVuSans-45\" d=\"M 628 4666 \nL 3578 4666 \nL 3578 4134 \nL 1259 4134 \nL 1259 2753 \nL 3481 2753 \nL 3481 2222 \nL 1259 2222 \nL 1259 531 \nL 3634 531 \nL 3634 0 \nL 628 0 \nL 628 4666 \nz\n\" transform=\"scale(0.015625)\"/>\n       <path id=\"DejaVuSans-70\" d=\"M 1159 525 \nL 1159 -1331 \nL 581 -1331 \nL 581 3500 \nL 1159 3500 \nL 1159 2969 \nQ 1341 3281 1617 3432 \nQ 1894 3584 2278 3584 \nQ 2916 3584 3314 3078 \nQ 3713 2572 3713 1747 \nQ 3713 922 3314 415 \nQ 2916 -91 2278 -91 \nQ 1894 -91 1617 61 \nQ 1341 213 1159 525 \nz\nM 3116 1747 \nQ 3116 2381 2855 2742 \nQ 2594 3103 2138 3103 \nQ 1681 3103 1420 2742 \nQ 1159 2381 1159 1747 \nQ 1159 1113 1420 752 \nQ 1681 391 2138 391 \nQ 2594 391 2855 752 \nQ 3116 1113 3116 1747 \nz\n\" transform=\"scale(0.015625)\"/>\n       <path id=\"DejaVuSans-6f\" d=\"M 1959 3097 \nQ 1497 3097 1228 2736 \nQ 959 2375 959 1747 \nQ 959 1119 1226 758 \nQ 1494 397 1959 397 \nQ 2419 397 2687 759 \nQ 2956 1122 2956 1747 \nQ 2956 2369 2687 2733 \nQ 2419 3097 1959 3097 \nz\nM 1959 3584 \nQ 2709 3584 3137 3096 \nQ 3566 2609 3566 1747 \nQ 3566 888 3137 398 \nQ 2709 -91 1959 -91 \nQ 1206 -91 779 398 \nQ 353 888 353 1747 \nQ 353 2609 779 3096 \nQ 1206 3584 1959 3584 \nz\n\" transform=\"scale(0.015625)\"/>\n       <path id=\"DejaVuSans-63\" d=\"M 3122 3366 \nL 3122 2828 \nQ 2878 2963 2633 3030 \nQ 2388 3097 2138 3097 \nQ 1578 3097 1268 2742 \nQ 959 2388 959 1747 \nQ 959 1106 1268 751 \nQ 1578 397 2138 397 \nQ 2388 397 2633 464 \nQ 2878 531 3122 666 \nL 3122 134 \nQ 2881 22 2623 -34 \nQ 2366 -91 2075 -91 \nQ 1284 -91 818 406 \nQ 353 903 353 1747 \nQ 353 2603 823 3093 \nQ 1294 3584 2113 3584 \nQ 2378 3584 2631 3529 \nQ 2884 3475 3122 3366 \nz\n\" transform=\"scale(0.015625)\"/>\n       <path id=\"DejaVuSans-68\" d=\"M 3513 2113 \nL 3513 0 \nL 2938 0 \nL 2938 2094 \nQ 2938 2591 2744 2837 \nQ 2550 3084 2163 3084 \nQ 1697 3084 1428 2787 \nQ 1159 2491 1159 1978 \nL 1159 0 \nL 581 0 \nL 581 4863 \nL 1159 4863 \nL 1159 2956 \nQ 1366 3272 1645 3428 \nQ 1925 3584 2291 3584 \nQ 2894 3584 3203 3211 \nQ 3513 2838 3513 2113 \nz\n\" transform=\"scale(0.015625)\"/>\n      </defs>\n      <use xlink:href=\"#DejaVuSans-45\"/>\n      <use xlink:href=\"#DejaVuSans-70\" x=\"63.183594\"/>\n      <use xlink:href=\"#DejaVuSans-6f\" x=\"126.660156\"/>\n      <use xlink:href=\"#DejaVuSans-63\" x=\"187.841797\"/>\n      <use xlink:href=\"#DejaVuSans-68\" x=\"242.822266\"/>\n     </g>\n    </g>\n   </g>\n   <g id=\"matplotlib.axis_2\">\n    <g id=\"ytick_1\">\n     <g id=\"line2d_7\">\n      <defs>\n       <path id=\"m9dae3127c5\" d=\"M 0 0 \nL -3.5 0 \n\" style=\"stroke: #000000; stroke-width: 0.8\"/>\n      </defs>\n      <g>\n       <use xlink:href=\"#m9dae3127c5\" x=\"50.14375\" y=\"245.308277\" style=\"stroke: #000000; stroke-width: 0.8\"/>\n      </g>\n     </g>\n     <g id=\"text_8\">\n      <!-- 0.45 -->\n      <g transform=\"translate(20.878125 249.107495) scale(0.1 -0.1)\">\n       <defs>\n        <path id=\"DejaVuSans-2e\" d=\"M 684 794 \nL 1344 794 \nL 1344 0 \nL 684 0 \nL 684 794 \nz\n\" transform=\"scale(0.015625)\"/>\n        <path id=\"DejaVuSans-35\" d=\"M 691 4666 \nL 3169 4666 \nL 3169 4134 \nL 1269 4134 \nL 1269 2991 \nQ 1406 3038 1543 3061 \nQ 1681 3084 1819 3084 \nQ 2600 3084 3056 2656 \nQ 3513 2228 3513 1497 \nQ 3513 744 3044 326 \nQ 2575 -91 1722 -91 \nQ 1428 -91 1123 -41 \nQ 819 9 494 109 \nL 494 744 \nQ 775 591 1075 516 \nQ 1375 441 1709 441 \nQ 2250 441 2565 725 \nQ 2881 1009 2881 1497 \nQ 2881 1984 2565 2268 \nQ 2250 2553 1709 2553 \nQ 1456 2553 1204 2497 \nQ 953 2441 691 2322 \nL 691 4666 \nz\n\" transform=\"scale(0.015625)\"/>\n       </defs>\n       <use xlink:href=\"#DejaVuSans-30\"/>\n       <use xlink:href=\"#DejaVuSans-2e\" x=\"63.623047\"/>\n       <use xlink:href=\"#DejaVuSans-34\" x=\"95.410156\"/>\n       <use xlink:href=\"#DejaVuSans-35\" x=\"159.033203\"/>\n      </g>\n     </g>\n    </g>\n    <g id=\"ytick_2\">\n     <g id=\"line2d_8\">\n      <g>\n       <use xlink:href=\"#m9dae3127c5\" x=\"50.14375\" y=\"191.846601\" style=\"stroke: #000000; stroke-width: 0.8\"/>\n      </g>\n     </g>\n     <g id=\"text_9\">\n      <!-- 0.50 -->\n      <g transform=\"translate(20.878125 195.64582) scale(0.1 -0.1)\">\n       <use xlink:href=\"#DejaVuSans-30\"/>\n       <use xlink:href=\"#DejaVuSans-2e\" x=\"63.623047\"/>\n       <use xlink:href=\"#DejaVuSans-35\" x=\"95.410156\"/>\n       <use xlink:href=\"#DejaVuSans-30\" x=\"159.033203\"/>\n      </g>\n     </g>\n    </g>\n    <g id=\"ytick_3\">\n     <g id=\"line2d_9\">\n      <g>\n       <use xlink:href=\"#m9dae3127c5\" x=\"50.14375\" y=\"138.384926\" style=\"stroke: #000000; stroke-width: 0.8\"/>\n      </g>\n     </g>\n     <g id=\"text_10\">\n      <!-- 0.55 -->\n      <g transform=\"translate(20.878125 142.184145) scale(0.1 -0.1)\">\n       <use xlink:href=\"#DejaVuSans-30\"/>\n       <use xlink:href=\"#DejaVuSans-2e\" x=\"63.623047\"/>\n       <use xlink:href=\"#DejaVuSans-35\" x=\"95.410156\"/>\n       <use xlink:href=\"#DejaVuSans-35\" x=\"159.033203\"/>\n      </g>\n     </g>\n    </g>\n    <g id=\"ytick_4\">\n     <g id=\"line2d_10\">\n      <g>\n       <use xlink:href=\"#m9dae3127c5\" x=\"50.14375\" y=\"84.923251\" style=\"stroke: #000000; stroke-width: 0.8\"/>\n      </g>\n     </g>\n     <g id=\"text_11\">\n      <!-- 0.60 -->\n      <g transform=\"translate(20.878125 88.722469) scale(0.1 -0.1)\">\n       <use xlink:href=\"#DejaVuSans-30\"/>\n       <use xlink:href=\"#DejaVuSans-2e\" x=\"63.623047\"/>\n       <use xlink:href=\"#DejaVuSans-36\" x=\"95.410156\"/>\n       <use xlink:href=\"#DejaVuSans-30\" x=\"159.033203\"/>\n      </g>\n     </g>\n    </g>\n    <g id=\"ytick_5\">\n     <g id=\"line2d_11\">\n      <g>\n       <use xlink:href=\"#m9dae3127c5\" x=\"50.14375\" y=\"31.461575\" style=\"stroke: #000000; stroke-width: 0.8\"/>\n      </g>\n     </g>\n     <g id=\"text_12\">\n      <!-- 0.65 -->\n      <g transform=\"translate(20.878125 35.260794) scale(0.1 -0.1)\">\n       <use xlink:href=\"#DejaVuSans-30\"/>\n       <use xlink:href=\"#DejaVuSans-2e\" x=\"63.623047\"/>\n       <use xlink:href=\"#DejaVuSans-36\" x=\"95.410156\"/>\n       <use xlink:href=\"#DejaVuSans-35\" x=\"159.033203\"/>\n      </g>\n     </g>\n    </g>\n    <g id=\"text_13\">\n     <!-- Loss -->\n     <g transform=\"translate(14.798438 151.223187) rotate(-90) scale(0.1 -0.1)\">\n      <defs>\n       <path id=\"DejaVuSans-4c\" d=\"M 628 4666 \nL 1259 4666 \nL 1259 531 \nL 3531 531 \nL 3531 0 \nL 628 0 \nL 628 4666 \nz\n\" transform=\"scale(0.015625)\"/>\n       <path id=\"DejaVuSans-73\" d=\"M 2834 3397 \nL 2834 2853 \nQ 2591 2978 2328 3040 \nQ 2066 3103 1784 3103 \nQ 1356 3103 1142 2972 \nQ 928 2841 928 2578 \nQ 928 2378 1081 2264 \nQ 1234 2150 1697 2047 \nL 1894 2003 \nQ 2506 1872 2764 1633 \nQ 3022 1394 3022 966 \nQ 3022 478 2636 193 \nQ 2250 -91 1575 -91 \nQ 1294 -91 989 -36 \nQ 684 19 347 128 \nL 347 722 \nQ 666 556 975 473 \nQ 1284 391 1588 391 \nQ 1994 391 2212 530 \nQ 2431 669 2431 922 \nQ 2431 1156 2273 1281 \nQ 2116 1406 1581 1522 \nL 1381 1569 \nQ 847 1681 609 1914 \nQ 372 2147 372 2553 \nQ 372 3047 722 3315 \nQ 1072 3584 1716 3584 \nQ 2034 3584 2315 3537 \nQ 2597 3491 2834 3397 \nz\n\" transform=\"scale(0.015625)\"/>\n      </defs>\n      <use xlink:href=\"#DejaVuSans-4c\"/>\n      <use xlink:href=\"#DejaVuSans-6f\" x=\"53.962891\"/>\n      <use xlink:href=\"#DejaVuSans-73\" x=\"115.144531\"/>\n      <use xlink:href=\"#DejaVuSans-73\" x=\"167.244141\"/>\n     </g>\n    </g>\n   </g>\n   <g id=\"line2d_12\">\n    <defs>\n     <path id=\"m0c95ff4feb\" d=\"M 0 3 \nC 0.795609 3 1.55874 2.683901 2.12132 2.12132 \nC 2.683901 1.55874 3 0.795609 3 0 \nC 3 -0.795609 2.683901 -1.55874 2.12132 -2.12132 \nC 1.55874 -2.683901 0.795609 -3 0 -3 \nC -0.795609 -3 -1.55874 -2.683901 -2.12132 -2.12132 \nC -2.683901 -1.55874 -3 -0.795609 -3 0 \nC -3 0.795609 -2.683901 1.55874 -2.12132 2.12132 \nC -1.55874 2.683901 -0.795609 3 0 3 \nz\n\" style=\"stroke: #1f77b4\"/>\n    </defs>\n    <g clip-path=\"url(#p924f15a028)\">\n     <use xlink:href=\"#m0c95ff4feb\" x=\"66.376477\" y=\"19.296\" style=\"fill: #ffffff; stroke: #1f77b4\"/>\n     <use xlink:href=\"#m0c95ff4feb\" x=\"69.655816\" y=\"21.887505\" style=\"fill: #ffffff; stroke: #1f77b4\"/>\n     <use xlink:href=\"#m0c95ff4feb\" x=\"72.935155\" y=\"24.557782\" style=\"fill: #ffffff; stroke: #1f77b4\"/>\n     <use xlink:href=\"#m0c95ff4feb\" x=\"76.214494\" y=\"27.215186\" style=\"fill: #ffffff; stroke: #1f77b4\"/>\n     <use xlink:href=\"#m0c95ff4feb\" x=\"79.493833\" y=\"29.863475\" style=\"fill: #ffffff; stroke: #1f77b4\"/>\n     <use xlink:href=\"#m0c95ff4feb\" x=\"82.773171\" y=\"32.492391\" style=\"fill: #ffffff; stroke: #1f77b4\"/>\n     <use xlink:href=\"#m0c95ff4feb\" x=\"86.05251\" y=\"35.121434\" style=\"fill: #ffffff; stroke: #1f77b4\"/>\n     <use xlink:href=\"#m0c95ff4feb\" x=\"89.331849\" y=\"37.732823\" style=\"fill: #ffffff; stroke: #1f77b4\"/>\n     <use xlink:href=\"#m0c95ff4feb\" x=\"92.611188\" y=\"40.323181\" style=\"fill: #ffffff; stroke: #1f77b4\"/>\n     <use xlink:href=\"#m0c95ff4feb\" x=\"95.890527\" y=\"42.905254\" style=\"fill: #ffffff; stroke: #1f77b4\"/>\n     <use xlink:href=\"#m0c95ff4feb\" x=\"99.169866\" y=\"45.484459\" style=\"fill: #ffffff; stroke: #1f77b4\"/>\n     <use xlink:href=\"#m0c95ff4feb\" x=\"102.449205\" y=\"48.059904\" style=\"fill: #ffffff; stroke: #1f77b4\"/>\n     <use xlink:href=\"#m0c95ff4feb\" x=\"105.728543\" y=\"50.633755\" style=\"fill: #ffffff; stroke: #1f77b4\"/>\n     <use xlink:href=\"#m0c95ff4feb\" x=\"109.007882\" y=\"53.20646\" style=\"fill: #ffffff; stroke: #1f77b4\"/>\n     <use xlink:href=\"#m0c95ff4feb\" x=\"112.287221\" y=\"55.778463\" style=\"fill: #ffffff; stroke: #1f77b4\"/>\n     <use xlink:href=\"#m0c95ff4feb\" x=\"115.56656\" y=\"58.345113\" style=\"fill: #ffffff; stroke: #1f77b4\"/>\n     <use xlink:href=\"#m0c95ff4feb\" x=\"118.845899\" y=\"60.906601\" style=\"fill: #ffffff; stroke: #1f77b4\"/>\n     <use xlink:href=\"#m0c95ff4feb\" x=\"122.125238\" y=\"63.467898\" style=\"fill: #ffffff; stroke: #1f77b4\"/>\n     <use xlink:href=\"#m0c95ff4feb\" x=\"125.404576\" y=\"66.027155\" style=\"fill: #ffffff; stroke: #1f77b4\"/>\n     <use xlink:href=\"#m0c95ff4feb\" x=\"128.683915\" y=\"68.580995\" style=\"fill: #ffffff; stroke: #1f77b4\"/>\n     <use xlink:href=\"#m0c95ff4feb\" x=\"131.963254\" y=\"71.135217\" style=\"fill: #ffffff; stroke: #1f77b4\"/>\n     <use xlink:href=\"#m0c95ff4feb\" x=\"135.242593\" y=\"73.689822\" style=\"fill: #ffffff; stroke: #1f77b4\"/>\n     <use xlink:href=\"#m0c95ff4feb\" x=\"138.521932\" y=\"76.244554\" style=\"fill: #ffffff; stroke: #1f77b4\"/>\n     <use xlink:href=\"#m0c95ff4feb\" x=\"141.801271\" y=\"78.800051\" style=\"fill: #ffffff; stroke: #1f77b4\"/>\n     <use xlink:href=\"#m0c95ff4feb\" x=\"145.08061\" y=\"81.356886\" style=\"fill: #ffffff; stroke: #1f77b4\"/>\n     <use xlink:href=\"#m0c95ff4feb\" x=\"148.359948\" y=\"83.913403\" style=\"fill: #ffffff; stroke: #1f77b4\"/>\n     <use xlink:href=\"#m0c95ff4feb\" x=\"151.639287\" y=\"86.463292\" style=\"fill: #ffffff; stroke: #1f77b4\"/>\n     <use xlink:href=\"#m0c95ff4feb\" x=\"154.918626\" y=\"89.013053\" style=\"fill: #ffffff; stroke: #1f77b4\"/>\n     <use xlink:href=\"#m0c95ff4feb\" x=\"158.197965\" y=\"91.561476\" style=\"fill: #ffffff; stroke: #1f77b4\"/>\n     <use xlink:href=\"#m0c95ff4feb\" x=\"161.477304\" y=\"94.106457\" style=\"fill: #ffffff; stroke: #1f77b4\"/>\n     <use xlink:href=\"#m0c95ff4feb\" x=\"164.756643\" y=\"96.652649\" style=\"fill: #ffffff; stroke: #1f77b4\"/>\n     <use xlink:href=\"#m0c95ff4feb\" x=\"168.035981\" y=\"99.199734\" style=\"fill: #ffffff; stroke: #1f77b4\"/>\n     <use xlink:href=\"#m0c95ff4feb\" x=\"171.31532\" y=\"101.747838\" style=\"fill: #ffffff; stroke: #1f77b4\"/>\n     <use xlink:href=\"#m0c95ff4feb\" x=\"174.594659\" y=\"104.296898\" style=\"fill: #ffffff; stroke: #1f77b4\"/>\n     <use xlink:href=\"#m0c95ff4feb\" x=\"177.873998\" y=\"106.846978\" style=\"fill: #ffffff; stroke: #1f77b4\"/>\n     <use xlink:href=\"#m0c95ff4feb\" x=\"181.153337\" y=\"109.397631\" style=\"fill: #ffffff; stroke: #1f77b4\"/>\n     <use xlink:href=\"#m0c95ff4feb\" x=\"184.432676\" y=\"111.943505\" style=\"fill: #ffffff; stroke: #1f77b4\"/>\n     <use xlink:href=\"#m0c95ff4feb\" x=\"187.712014\" y=\"114.489697\" style=\"fill: #ffffff; stroke: #1f77b4\"/>\n     <use xlink:href=\"#m0c95ff4feb\" x=\"190.991353\" y=\"117.036144\" style=\"fill: #ffffff; stroke: #1f77b4\"/>\n     <use xlink:href=\"#m0c95ff4feb\" x=\"194.270692\" y=\"119.583101\" style=\"fill: #ffffff; stroke: #1f77b4\"/>\n     <use xlink:href=\"#m0c95ff4feb\" x=\"197.550031\" y=\"122.128274\" style=\"fill: #ffffff; stroke: #1f77b4\"/>\n     <use xlink:href=\"#m0c95ff4feb\" x=\"200.82937\" y=\"124.668029\" style=\"fill: #ffffff; stroke: #1f77b4\"/>\n     <use xlink:href=\"#m0c95ff4feb\" x=\"204.108709\" y=\"127.207593\" style=\"fill: #ffffff; stroke: #1f77b4\"/>\n     <use xlink:href=\"#m0c95ff4feb\" x=\"207.388048\" y=\"129.746775\" style=\"fill: #ffffff; stroke: #1f77b4\"/>\n     <use xlink:href=\"#m0c95ff4feb\" x=\"210.667386\" y=\"132.284364\" style=\"fill: #ffffff; stroke: #1f77b4\"/>\n     <use xlink:href=\"#m0c95ff4feb\" x=\"213.946725\" y=\"134.817873\" style=\"fill: #ffffff; stroke: #1f77b4\"/>\n     <use xlink:href=\"#m0c95ff4feb\" x=\"217.226064\" y=\"137.350682\" style=\"fill: #ffffff; stroke: #1f77b4\"/>\n     <use xlink:href=\"#m0c95ff4feb\" x=\"220.505403\" y=\"139.884192\" style=\"fill: #ffffff; stroke: #1f77b4\"/>\n     <use xlink:href=\"#m0c95ff4feb\" x=\"223.784742\" y=\"142.416809\" style=\"fill: #ffffff; stroke: #1f77b4\"/>\n     <use xlink:href=\"#m0c95ff4feb\" x=\"227.064081\" y=\"144.947897\" style=\"fill: #ffffff; stroke: #1f77b4\"/>\n     <use xlink:href=\"#m0c95ff4feb\" x=\"230.343419\" y=\"147.477201\" style=\"fill: #ffffff; stroke: #1f77b4\"/>\n     <use xlink:href=\"#m0c95ff4feb\" x=\"233.622758\" y=\"150.000067\" style=\"fill: #ffffff; stroke: #1f77b4\"/>\n     <use xlink:href=\"#m0c95ff4feb\" x=\"236.902097\" y=\"152.511526\" style=\"fill: #ffffff; stroke: #1f77b4\"/>\n     <use xlink:href=\"#m0c95ff4feb\" x=\"240.181436\" y=\"155.020308\" style=\"fill: #ffffff; stroke: #1f77b4\"/>\n     <use xlink:href=\"#m0c95ff4feb\" x=\"243.460775\" y=\"157.525648\" style=\"fill: #ffffff; stroke: #1f77b4\"/>\n     <use xlink:href=\"#m0c95ff4feb\" x=\"246.740114\" y=\"160.027483\" style=\"fill: #ffffff; stroke: #1f77b4\"/>\n     <use xlink:href=\"#m0c95ff4feb\" x=\"250.019452\" y=\"162.525877\" style=\"fill: #ffffff; stroke: #1f77b4\"/>\n     <use xlink:href=\"#m0c95ff4feb\" x=\"253.298791\" y=\"165.018408\" style=\"fill: #ffffff; stroke: #1f77b4\"/>\n     <use xlink:href=\"#m0c95ff4feb\" x=\"256.57813\" y=\"167.505776\" style=\"fill: #ffffff; stroke: #1f77b4\"/>\n     <use xlink:href=\"#m0c95ff4feb\" x=\"259.857469\" y=\"169.988109\" style=\"fill: #ffffff; stroke: #1f77b4\"/>\n     <use xlink:href=\"#m0c95ff4feb\" x=\"263.136808\" y=\"172.465281\" style=\"fill: #ffffff; stroke: #1f77b4\"/>\n     <use xlink:href=\"#m0c95ff4feb\" x=\"266.416147\" y=\"174.933147\" style=\"fill: #ffffff; stroke: #1f77b4\"/>\n     <use xlink:href=\"#m0c95ff4feb\" x=\"269.695486\" y=\"177.385846\" style=\"fill: #ffffff; stroke: #1f77b4\"/>\n     <use xlink:href=\"#m0c95ff4feb\" x=\"272.974824\" y=\"179.832681\" style=\"fill: #ffffff; stroke: #1f77b4\"/>\n     <use xlink:href=\"#m0c95ff4feb\" x=\"276.254163\" y=\"182.27327\" style=\"fill: #ffffff; stroke: #1f77b4\"/>\n     <use xlink:href=\"#m0c95ff4feb\" x=\"279.533502\" y=\"184.707168\" style=\"fill: #ffffff; stroke: #1f77b4\"/>\n     <use xlink:href=\"#m0c95ff4feb\" x=\"282.812841\" y=\"187.134246\" style=\"fill: #ffffff; stroke: #1f77b4\"/>\n     <use xlink:href=\"#m0c95ff4feb\" x=\"286.09218\" y=\"189.553932\" style=\"fill: #ffffff; stroke: #1f77b4\"/>\n     <use xlink:href=\"#m0c95ff4feb\" x=\"289.371519\" y=\"191.966161\" style=\"fill: #ffffff; stroke: #1f77b4\"/>\n     <use xlink:href=\"#m0c95ff4feb\" x=\"292.650857\" y=\"194.370679\" style=\"fill: #ffffff; stroke: #1f77b4\"/>\n     <use xlink:href=\"#m0c95ff4feb\" x=\"295.930196\" y=\"196.767198\" style=\"fill: #ffffff; stroke: #1f77b4\"/>\n     <use xlink:href=\"#m0c95ff4feb\" x=\"299.209535\" y=\"199.155209\" style=\"fill: #ffffff; stroke: #1f77b4\"/>\n     <use xlink:href=\"#m0c95ff4feb\" x=\"302.488874\" y=\"201.534776\" style=\"fill: #ffffff; stroke: #1f77b4\"/>\n     <use xlink:href=\"#m0c95ff4feb\" x=\"305.768213\" y=\"203.905739\" style=\"fill: #ffffff; stroke: #1f77b4\"/>\n     <use xlink:href=\"#m0c95ff4feb\" x=\"309.047552\" y=\"206.267238\" style=\"fill: #ffffff; stroke: #1f77b4\"/>\n     <use xlink:href=\"#m0c95ff4feb\" x=\"312.32689\" y=\"208.616883\" style=\"fill: #ffffff; stroke: #1f77b4\"/>\n     <use xlink:href=\"#m0c95ff4feb\" x=\"315.606229\" y=\"210.953941\" style=\"fill: #ffffff; stroke: #1f77b4\"/>\n     <use xlink:href=\"#m0c95ff4feb\" x=\"318.885568\" y=\"213.280547\" style=\"fill: #ffffff; stroke: #1f77b4\"/>\n     <use xlink:href=\"#m0c95ff4feb\" x=\"322.164907\" y=\"215.596478\" style=\"fill: #ffffff; stroke: #1f77b4\"/>\n     <use xlink:href=\"#m0c95ff4feb\" x=\"325.444246\" y=\"217.901575\" style=\"fill: #ffffff; stroke: #1f77b4\"/>\n     <use xlink:href=\"#m0c95ff4feb\" x=\"328.723585\" y=\"220.193288\" style=\"fill: #ffffff; stroke: #1f77b4\"/>\n     <use xlink:href=\"#m0c95ff4feb\" x=\"332.002924\" y=\"222.471522\" style=\"fill: #ffffff; stroke: #1f77b4\"/>\n     <use xlink:href=\"#m0c95ff4feb\" x=\"335.282262\" y=\"224.737743\" style=\"fill: #ffffff; stroke: #1f77b4\"/>\n     <use xlink:href=\"#m0c95ff4feb\" x=\"338.561601\" y=\"226.991695\" style=\"fill: #ffffff; stroke: #1f77b4\"/>\n     <use xlink:href=\"#m0c95ff4feb\" x=\"341.84094\" y=\"229.23322\" style=\"fill: #ffffff; stroke: #1f77b4\"/>\n     <use xlink:href=\"#m0c95ff4feb\" x=\"345.120279\" y=\"231.462094\" style=\"fill: #ffffff; stroke: #1f77b4\"/>\n     <use xlink:href=\"#m0c95ff4feb\" x=\"348.399618\" y=\"233.678095\" style=\"fill: #ffffff; stroke: #1f77b4\"/>\n     <use xlink:href=\"#m0c95ff4feb\" x=\"351.678957\" y=\"235.881094\" style=\"fill: #ffffff; stroke: #1f77b4\"/>\n     <use xlink:href=\"#m0c95ff4feb\" x=\"354.958295\" y=\"238.071029\" style=\"fill: #ffffff; stroke: #1f77b4\"/>\n     <use xlink:href=\"#m0c95ff4feb\" x=\"358.237634\" y=\"240.247898\" style=\"fill: #ffffff; stroke: #1f77b4\"/>\n     <use xlink:href=\"#m0c95ff4feb\" x=\"361.516973\" y=\"242.41097\" style=\"fill: #ffffff; stroke: #1f77b4\"/>\n     <use xlink:href=\"#m0c95ff4feb\" x=\"364.796312\" y=\"244.560307\" style=\"fill: #ffffff; stroke: #1f77b4\"/>\n     <use xlink:href=\"#m0c95ff4feb\" x=\"368.075651\" y=\"246.695592\" style=\"fill: #ffffff; stroke: #1f77b4\"/>\n     <use xlink:href=\"#m0c95ff4feb\" x=\"371.35499\" y=\"248.816696\" style=\"fill: #ffffff; stroke: #1f77b4\"/>\n     <use xlink:href=\"#m0c95ff4feb\" x=\"374.634329\" y=\"250.923525\" style=\"fill: #ffffff; stroke: #1f77b4\"/>\n     <use xlink:href=\"#m0c95ff4feb\" x=\"377.913667\" y=\"253.01576\" style=\"fill: #ffffff; stroke: #1f77b4\"/>\n     <use xlink:href=\"#m0c95ff4feb\" x=\"381.193006\" y=\"255.090627\" style=\"fill: #ffffff; stroke: #1f77b4\"/>\n     <use xlink:href=\"#m0c95ff4feb\" x=\"384.472345\" y=\"257.147459\" style=\"fill: #ffffff; stroke: #1f77b4\"/>\n     <use xlink:href=\"#m0c95ff4feb\" x=\"387.751684\" y=\"259.189345\" style=\"fill: #ffffff; stroke: #1f77b4\"/>\n     <use xlink:href=\"#m0c95ff4feb\" x=\"391.031023\" y=\"261.216\" style=\"fill: #ffffff; stroke: #1f77b4\"/>\n    </g>\n   </g>\n   <g id=\"patch_3\">\n    <path d=\"M 50.14375 273.312 \nL 50.14375 7.2 \n\" style=\"fill: none; stroke: #000000; stroke-width: 0.8; stroke-linejoin: miter; stroke-linecap: square\"/>\n   </g>\n   <g id=\"patch_4\">\n    <path d=\"M 407.26375 273.312 \nL 407.26375 7.2 \n\" style=\"fill: none; stroke: #000000; stroke-width: 0.8; stroke-linejoin: miter; stroke-linecap: square\"/>\n   </g>\n   <g id=\"patch_5\">\n    <path d=\"M 50.14375 273.312 \nL 407.26375 273.312 \n\" style=\"fill: none; stroke: #000000; stroke-width: 0.8; stroke-linejoin: miter; stroke-linecap: square\"/>\n   </g>\n   <g id=\"patch_6\">\n    <path d=\"M 50.14375 7.2 \nL 407.26375 7.2 \n\" style=\"fill: none; stroke: #000000; stroke-width: 0.8; stroke-linejoin: miter; stroke-linecap: square\"/>\n   </g>\n  </g>\n </g>\n <defs>\n  <clipPath id=\"p924f15a028\">\n   <rect x=\"50.14375\" y=\"7.2\" width=\"357.12\" height=\"266.112\"/>\n  </clipPath>\n </defs>\n</svg>\n"
          },
          "metadata": {}
        }
      ]
    }
  ]
}