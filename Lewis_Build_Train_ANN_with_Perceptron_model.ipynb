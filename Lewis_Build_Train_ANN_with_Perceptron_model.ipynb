{
  "nbformat": 4,
  "nbformat_minor": 0,
  "metadata": {
    "colab": {
      "provenance": [],
      "authorship_tag": "ABX9TyNz5JffQBEy0BpNsqa/zkrh",
      "include_colab_link": true
    },
    "kernelspec": {
      "name": "python3",
      "display_name": "Python 3"
    },
    "language_info": {
      "name": "python"
    }
  },
  "cells": [
    {
      "cell_type": "markdown",
      "metadata": {
        "id": "view-in-github",
        "colab_type": "text"
      },
      "source": [
        "<a href=\"https://colab.research.google.com/github/LLewis/ai-deep-learning/blob/main/Lewis_Build_Train_ANN_with_Perceptron_model.ipynb\" target=\"_parent\"><img src=\"https://colab.research.google.com/assets/colab-badge.svg\" alt=\"Open In Colab\"/></a>"
      ]
    },
    {
      "cell_type": "markdown",
      "source": [
        "ANN with Perceptron Model Challenge +\n",
        "My Mission Challenge"
      ],
      "metadata": {
        "id": "8RB56J1kEvYF"
      }
    },
    {
      "cell_type": "code",
      "execution_count": 10,
      "metadata": {
        "id": "Dk76VWRQEtiY"
      },
      "outputs": [],
      "source": [
        "#import libraries\n",
        "import numpy as np\n",
        "import torch\n",
        "import torch.nn as nn\n",
        "import matplotlib.pyplot as plt\n",
        "from IPython import display\n",
        "#display.set_matplotlib.formats('svg')\n"
      ]
    },
    {
      "cell_type": "code",
      "source": [
        "#Step 2 build the model\n",
        "def buildAndTrain(x):\n",
        "\n",
        "  ANNreg = nn.Sequential(\n",
        "      nn.Linear(1,1),\n",
        "      nn.ReLU(),\n",
        "      nn.Linear(1,1)\n",
        "  )\n",
        "\n",
        "  #learningRate = .05\n",
        "  #Mean Square Error MSE function\n",
        "  #lossfun = nn.MSELoss()\n",
        "\n",
        "  #optimizer (the flavor of stacastic gradient descent to implememt)\n",
        "  #optimizer = torch.optim.SGD(ANNreg.parameters(), lr=learningRate)\n",
        "\n",
        "\n",
        "  #Step 3 train model\n",
        "  numepochs = 50\n",
        "  #losses = torch.zeros(numepochs)\n",
        "\n",
        "  for epochi in range(numepochs):\n",
        "     #forward pass\n",
        "     yHat = ANNreg(x)\n",
        "\n",
        "     #compute the loss\n",
        "     #loss = lossfun(yHat, y)\n",
        "     #losses[epochi] = loss\n",
        "\n",
        "     #optimizer.zero_grad\n",
        "     #loss.backward()\n",
        "     #optimizer.step()\n",
        "\n",
        "  return yHat\n",
        "\n",
        "\n",
        "N = 21\n",
        "x = torch.randn(N,1)\n",
        "prediction_yHat = buildAndTrain(x)\n",
        "prediction_yHat\n",
        "\n"
      ],
      "metadata": {
        "colab": {
          "base_uri": "https://localhost:8080/"
        },
        "id": "s1h5uK0hF9L4",
        "outputId": "a90168f5-9382-4779-b301-3fd6cf60f5df"
      },
      "execution_count": 18,
      "outputs": [
        {
          "output_type": "execute_result",
          "data": {
            "text/plain": [
              "tensor([[ 0.1465],\n",
              "        [ 0.2380],\n",
              "        [ 0.3414],\n",
              "        [ 0.1567],\n",
              "        [ 0.4037],\n",
              "        [ 0.4108],\n",
              "        [ 0.2709],\n",
              "        [ 0.2576],\n",
              "        [ 0.3506],\n",
              "        [ 0.4090],\n",
              "        [ 0.2643],\n",
              "        [-0.4233],\n",
              "        [ 0.2805],\n",
              "        [ 0.3320],\n",
              "        [ 0.1751],\n",
              "        [-0.0032],\n",
              "        [ 0.3205],\n",
              "        [-0.2255],\n",
              "        [ 0.1305],\n",
              "        [ 0.2601],\n",
              "        [ 0.0574]], grad_fn=<AddmmBackward0>)"
            ]
          },
          "metadata": {},
          "execution_count": 18
        }
      ]
    }
  ]
}