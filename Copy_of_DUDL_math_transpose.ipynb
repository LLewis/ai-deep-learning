{
  "nbformat": 4,
  "nbformat_minor": 0,
  "metadata": {
    "colab": {
      "provenance": [],
      "authorship_tag": "ABX9TyNoLQmBHrJ4JBm1CYHQMpI5",
      "include_colab_link": true
    },
    "kernelspec": {
      "name": "python3",
      "display_name": "Python 3"
    },
    "language_info": {
      "name": "python"
    }
  },
  "cells": [
    {
      "cell_type": "markdown",
      "metadata": {
        "id": "view-in-github",
        "colab_type": "text"
      },
      "source": [
        "<a href=\"https://colab.research.google.com/github/LLewis/ai-deep-learning/blob/main/Copy_of_DUDL_math_transpose.ipynb\" target=\"_parent\"><img src=\"https://colab.research.google.com/assets/colab-badge.svg\" alt=\"Open In Colab\"/></a>"
      ]
    },
    {
      "cell_type": "code",
      "execution_count": 12,
      "metadata": {
        "colab": {
          "base_uri": "https://localhost:8080/"
        },
        "id": "3NtwCirqNIdx",
        "outputId": "40fb0be8-60b2-4bd3-c227-3dd8e8b3edc3"
      },
      "outputs": [
        {
          "output_type": "stream",
          "name": "stdout",
          "text": [
            "[[1 2 3 4 5 6 7 8 9]]\n",
            " \n",
            "[[1]\n",
            " [2]\n",
            " [3]\n",
            " [4]\n",
            " [5]\n",
            " [6]\n",
            " [7]\n",
            " [8]\n",
            " [9]]\n",
            " \n",
            "[[1 2 3 4 5 6 7 8 9]]\n",
            "\n",
            "[[1 2 3 4]\n",
            " [5 6 7 8]]\n",
            " \n",
            "[[1 5]\n",
            " [2 6]\n",
            " [3 7]\n",
            " [4 8]]\n",
            " \n",
            "[[1 2 3 4]\n",
            " [5 6 7 8]]\n",
            "tensor([[1, 2, 3, 4]])\n",
            " \n",
            "tensor([[1],\n",
            "        [2],\n",
            "        [3],\n",
            "        [4]])\n",
            " \n",
            "tensor([[1, 2, 3, 4]])\n",
            " \n",
            "tensor([[1, 2, 3, 4],\n",
            "        [5, 6, 7, 8]])\n",
            " \n",
            "tensor([[1, 5],\n",
            "        [2, 6],\n",
            "        [3, 7],\n",
            "        [4, 8]])\n",
            " \n",
            "tensor([[1, 2, 3, 4],\n",
            "        [5, 6, 7, 8]])\n",
            " \n",
            "Variable nv is of type <class 'numpy.ndarray'>\n",
            "Variable nM is of type <class 'numpy.ndarray'>\n",
            "Variable tv is of type <class 'torch.Tensor'>\n",
            "Variable tM is of type <class 'torch.Tensor'>\n"
          ]
        }
      ],
      "source": [
        "#import libraries\n",
        "import numpy as np\n",
        "import torch\n",
        "\n",
        "#Using numphy  --------------------------\n",
        "\n",
        "#create a row vector  using array function\n",
        "# the first row of the \n",
        "nv = np.array([[1,2,3,4,5,6,7,8,9]])\n",
        "print(nv), print(' ')\n",
        "\n",
        "#transpose it to column vector using the\n",
        "# T transpose function on the np.array object\n",
        "print(nv.T), print(' ')\n",
        "\n",
        "\n",
        "#transpose the transpose back to \n",
        "#it's original state\n",
        "nvT = nv.T\n",
        "print(nvT.T)\n",
        "print()\n",
        "\n",
        "#------------------------------------------\n",
        "\n",
        "#create a matrix  two rows and four column matrix\n",
        "nM = np.array([[1,2,3,4],[5,6,7,8]])\n",
        "print(nM), print(' ')\n",
        "\n",
        "#transpose the matrix into two vector columns (lists)\n",
        "print(nM.T), print(' ')\n",
        "\n",
        "#transpose the transpose\n",
        "nMT = nM.T\n",
        "print(nMT.T)\n",
        "\n",
        "#Using pytorch  --------------------------\n",
        "\n",
        "#create a tensor row vector\n",
        "tv = torch.tensor([[1,2,3,4]])\n",
        "print(tv), print(' ')\n",
        "\n",
        "#transpose it to a tensor column vector\n",
        "print(tv.T), print(' ')\n",
        "\n",
        "#transpose the transpose\n",
        "tvT = tv.T\n",
        "print(tvT.T)\n",
        "print(' ')\n",
        "\n",
        "#------------------------------------------\n",
        "\n",
        "#create a matrix  two rows and four column matrix\n",
        "tM = torch.tensor([[1,2,3,4,],[5,6,7,8]])\n",
        "print(tM), print(' ')\n",
        "\n",
        "#transpose it\n",
        "print(tM.T), print(' ')\n",
        "\n",
        "#transpose the transpose\n",
        "tMT = tM.T\n",
        "print(tMT.T), print(' ')\n",
        "\n",
        "\n",
        "\n",
        "#example of different numphy and pytorch data types of variables above\n",
        "\n",
        "print(f'Variable nv is of type {type(nv)}')\n",
        "print(f'Variable nM is of type {type(nM)}')\n",
        "print(f'Variable tv is of type {type(tv)}')\n",
        "print(f'Variable tM is of type {type(tM)}')"
      ]
    },
    {
      "cell_type": "code",
      "source": [],
      "metadata": {
        "id": "qWtg2CVylYkI"
      },
      "execution_count": null,
      "outputs": []
    }
  ]
}