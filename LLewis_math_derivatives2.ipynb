{
  "nbformat": 4,
  "nbformat_minor": 0,
  "metadata": {
    "colab": {
      "provenance": [],
      "authorship_tag": "ABX9TyPfi01/98JFcI6cPhvLoJ0l",
      "include_colab_link": true
    },
    "kernelspec": {
      "name": "python3",
      "display_name": "Python 3"
    },
    "language_info": {
      "name": "python"
    }
  },
  "cells": [
    {
      "cell_type": "markdown",
      "metadata": {
        "id": "view-in-github",
        "colab_type": "text"
      },
      "source": [
        "<a href=\"https://colab.research.google.com/github/LLewis/ai-deep-learning/blob/main/LLewis_math_derivatives2.ipynb\" target=\"_parent\"><img src=\"https://colab.research.google.com/assets/colab-badge.svg\" alt=\"Open In Colab\"/></a>"
      ]
    },
    {
      "cell_type": "code",
      "execution_count": null,
      "metadata": {
        "colab": {
          "base_uri": "https://localhost:8080/",
          "height": 453
        },
        "id": "7AUihX1WBrf2",
        "outputId": "cd592c05-5029-4eb3-e369-dd4486fdfb7a"
      },
      "outputs": [
        {
          "output_type": "stream",
          "name": "stdout",
          "text": [
            "The Functions:\n"
          ]
        },
        {
          "output_type": "display_data",
          "data": {
            "text/plain": [
              "2*x**2"
            ],
            "text/latex": "$\\displaystyle 2 x^{2}$"
          },
          "metadata": {}
        },
        {
          "output_type": "display_data",
          "data": {
            "text/plain": [
              "-3*x**4 + 4*x**3"
            ],
            "text/latex": "$\\displaystyle - 3 x^{4} + 4 x^{3}$"
          },
          "metadata": {}
        },
        {
          "output_type": "stream",
          "name": "stdout",
          "text": [
            " \n",
            "Their Derivatives:\n"
          ]
        },
        {
          "output_type": "display_data",
          "data": {
            "text/plain": [
              "4*x"
            ],
            "text/latex": "$\\displaystyle 4 x$"
          },
          "metadata": {}
        },
        {
          "output_type": "display_data",
          "data": {
            "text/plain": [
              "-12*x**3 + 12*x**2"
            ],
            "text/latex": "$\\displaystyle - 12 x^{3} + 12 x^{2}$"
          },
          "metadata": {}
        },
        {
          "output_type": "stream",
          "name": "stdout",
          "text": [
            " \n",
            "Manual Product Rule:\n"
          ]
        },
        {
          "output_type": "display_data",
          "data": {
            "text/plain": [
              "2*x**2*(-12*x**3 + 12*x**2) + 4*x*(-3*x**4 + 4*x**3)"
            ],
            "text/latex": "$\\displaystyle 2 x^{2} \\left(- 12 x^{3} + 12 x^{2}\\right) + 4 x \\left(- 3 x^{4} + 4 x^{3}\\right)$"
          },
          "metadata": {}
        },
        {
          "output_type": "stream",
          "name": "stdout",
          "text": [
            " \n",
            "Use of Sympy\n"
          ]
        },
        {
          "output_type": "display_data",
          "data": {
            "text/plain": [
              "2*x**2*(-12*x**3 + 12*x**2) + 4*x*(-3*x**4 + 4*x**3)"
            ],
            "text/latex": "$\\displaystyle 2 x^{2} \\left(- 12 x^{3} + 12 x^{2}\\right) + 4 x \\left(- 3 x^{4} + 4 x^{3}\\right)$"
          },
          "metadata": {}
        },
        {
          "output_type": "stream",
          "name": "stdout",
          "text": [
            " \n",
            " The Wrong Way\n"
          ]
        },
        {
          "output_type": "display_data",
          "data": {
            "text/plain": [
              "4*x*(-12*x**3 + 12*x**2)"
            ],
            "text/latex": "$\\displaystyle 4 x \\left(- 12 x^{3} + 12 x^{2}\\right)$"
          },
          "metadata": {}
        },
        {
          "output_type": "stream",
          "name": "stdout",
          "text": [
            " \n",
            "The Function using the Chain Rule:\n"
          ]
        },
        {
          "output_type": "display_data",
          "data": {
            "text/plain": [
              "(4*x**3 + x**2)**5"
            ],
            "text/latex": "$\\displaystyle \\left(4 x^{3} + x^{2}\\right)^{5}$"
          },
          "metadata": {}
        },
        {
          "output_type": "stream",
          "name": "stdout",
          "text": [
            " \n",
            " Its Derivatives: \n"
          ]
        },
        {
          "output_type": "display_data",
          "data": {
            "text/plain": [
              "(60*x**2 + 10*x)*(4*x**3 + x**2)**4"
            ],
            "text/latex": "$\\displaystyle \\left(60 x^{2} + 10 x\\right) \\left(4 x^{3} + x^{2}\\right)^{4}$"
          },
          "metadata": {}
        }
      ],
      "source": [
        "from IPython.core.display import display_pdf\n",
        "#import libraries\n",
        "import numpy as np\n",
        "import sympy as sym\n",
        "\n",
        "#makes the equations look better\n",
        "# library to make sympy look better\n",
        "from IPython.display import display\n",
        "\n",
        "# create symbolic variables in sympy\n",
        "x = sym.symbols('x')\n",
        "\n",
        "# create two functions\n",
        "fx = 2*x**2\n",
        "gx = 4*x**3 - 3*x**4\n",
        "\n",
        "# compute their individual derivatives\n",
        "df = sym.diff(fx)\n",
        "dg = sym.diff(gx)\n",
        "# print(df)\n",
        "# print(dg)\n",
        "\n",
        "#apply the product rule\n",
        "manual = df*gx + fx*dg\n",
        "thewrongway = df * dg\n",
        "\n",
        "#find the derivative of fx * gx using sympy\n",
        "viasympy = sym.diff(fx*gx)\n",
        "\n",
        "# print results\n",
        "print('The Functions:')\n",
        "display(fx)\n",
        "display(gx)\n",
        "display_pdf(fx)\n",
        "print(' ')\n",
        "\n",
        "print('Their Derivatives:')\n",
        "display(df)\n",
        "display(dg)\n",
        "print(' ')\n",
        "\n",
        "print('Manual Product Rule:')\n",
        "display(manual)\n",
        "print(' ')\n",
        "\n",
        "print('Use of Sympy')\n",
        "display(viasympy)\n",
        "print(' ')\n",
        "\n",
        "print(' The Wrong Way')\n",
        "display(thewrongway)\n",
        "print(' ')\n",
        "\n",
        "#  repeat using the chain rule\n",
        "\n",
        "# fx = ( x**2 + 4*x**3)**5\n",
        "\n",
        "#since this is an embedded function, I can use the chain rule\n",
        "\n",
        "# or can re-write as\n",
        "gx = x**2 + 4*x**3\n",
        "fx = (gx)**5\n",
        "\n",
        "print('The Function using the Chain Rule:')\n",
        "display(fx)\n",
        "print(' ')\n",
        "\n",
        "print(' Its Derivatives: ')\n",
        "display(sym.diff(fx))\n"
      ]
    },
    {
      "cell_type": "code",
      "source": [],
      "metadata": {
        "id": "JruHOOZY-gZ2"
      },
      "execution_count": null,
      "outputs": []
    }
  ]
}